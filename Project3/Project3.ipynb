{
  "nbformat": 4,
  "nbformat_minor": 0,
  "metadata": {
    "colab": {
      "provenance": []
    },
    "kernelspec": {
      "name": "python3",
      "display_name": "Python 3"
    },
    "language_info": {
      "name": "python"
    }
  },
  "cells": [
    {
      "cell_type": "markdown",
      "source": [
        "**Task1: Acquire the Dataset**"
      ],
      "metadata": {
        "id": "0uGBxfPs5hbT"
      }
    },
    {
      "cell_type": "code",
      "execution_count": null,
      "metadata": {
        "id": "89ZJlZpm14I1"
      },
      "outputs": [],
      "source": [
        "#Import Dataset\n",
        "import tensorflow as tf\n",
        "(x_train, y_train), (x_test, y_test) = tf.keras.datasets.fashion_mnist.load_data()\n",
        "assert x_train.shape == (60000, 28, 28)\n",
        "assert x_test.shape == (10000, 28, 28)\n",
        "assert y_train.shape == (60000,)\n",
        "assert y_test.shape == (10000,)"
      ]
    },
    {
      "cell_type": "code",
      "source": [
        "#Vectorize\n",
        "import numpy as np\n",
        "x_train=np.reshape(x_train,(60000,784))\n",
        "x_test=np.reshape(x_test,(10000,784))"
      ],
      "metadata": {
        "id": "AB1Bbavv3FYy"
      },
      "execution_count": null,
      "outputs": []
    },
    {
      "cell_type": "code",
      "source": [
        "x_train_unnorm = x_train\n",
        "x_test_unnorm = x_test"
      ],
      "metadata": {
        "id": "TmljvE9_zKIb"
      },
      "execution_count": null,
      "outputs": []
    },
    {
      "cell_type": "code",
      "source": [
        "#Normalize Data\n",
        "x_train =x_train/np.std(x_train, axis = 0)\n",
        "x_test=x_test/np.std(x_test,axis=0)"
      ],
      "metadata": {
        "id": "qGOhXc285gjm"
      },
      "execution_count": null,
      "outputs": []
    },
    {
      "cell_type": "code",
      "source": [
        "n_features = x_train.shape[-1]"
      ],
      "metadata": {
        "id": "wmZleCDZEbpt"
      },
      "execution_count": null,
      "outputs": []
    },
    {
      "cell_type": "markdown",
      "source": [
        "**Task2: Implement MLP to classify image**"
      ],
      "metadata": {
        "id": "YdO1pjZE8vP9"
      }
    },
    {
      "cell_type": "code",
      "source": [
        "#%matplotlib notebook\n",
        "%matplotlib inline\n",
        "import matplotlib.pyplot as plt\n",
        "from IPython.core.debugger import set_trace\n",
        "import warnings\n",
        "warnings.filterwarnings('ignore')\n",
        "\n",
        "from typing import List\n",
        "from tqdm import tqdm"
      ],
      "metadata": {
        "id": "l_YzOzn_80YZ"
      },
      "execution_count": null,
      "outputs": []
    },
    {
      "cell_type": "code",
      "source": [
        "#Construct NeutralNetLayer\n",
        "class NeuralNetLayer:\n",
        "    def __init__(self):\n",
        "        self.gradient = None\n",
        "        self.parameters = None\n",
        "        \n",
        "    def forward(self, x):\n",
        "        raise NotImplementedError\n",
        "\n",
        "    def backward(self, gradient):\n",
        "        raise NotImplementedError"
      ],
      "metadata": {
        "id": "vQOR12EBDZye"
      },
      "execution_count": null,
      "outputs": []
    },
    {
      "cell_type": "code",
      "source": [
        "class LinearLayer(NeuralNetLayer):\n",
        "    def __init__(self, input_size, output_size, l2reg: float):\n",
        "        super().__init__()\n",
        "        self.ni = input_size\n",
        "        self.no = output_size\n",
        "        self.w = np.random.normal(0,0.2,(output_size, input_size))\n",
        "        self.b = np.random.randn(output_size)\n",
        "        self.cur_input = None\n",
        "        self.parameters = [self.w, self.b]\n",
        "        self.l2 = l2reg\n",
        "\n",
        "    def forward(self, x):\n",
        "        self.cur_input = x\n",
        "        return (self.w[None, :, :] @ x[:, :, None]).squeeze() + self.b\n",
        "\n",
        "    def backward(self, gradient):\n",
        "        assert self.cur_input is not None, \"Must call forward before backward\"\n",
        "        #dw = gradient.dot(self.cur_input)\n",
        "        #dw = gradient[:, :, None] @ self.cur_input[:, None, :] + 0.0001/self.no*self.w\n",
        "        dw = gradient[:, :, None] @ self.cur_input[:, None, :] + self.l2*self.w\n",
        "        db = gradient\n",
        "        self.gradient = [dw, db]\n",
        "        return gradient.dot(self.w)"
      ],
      "metadata": {
        "id": "0KRWaeL2DpsU"
      },
      "execution_count": null,
      "outputs": []
    },
    {
      "cell_type": "code",
      "source": [
        "class ReLULayer(NeuralNetLayer):\n",
        "    def __init__(self):\n",
        "        super().__init__()\n",
        "        \n",
        "    def forward(self, x):\n",
        "        self.gradient = np.where(x > 0, 1.0, 0.0)\n",
        "        return np.maximum(0, x)\n",
        "\n",
        "    def backward(self, gradient):\n",
        "        assert self.gradient is not None, \"Must call forward before backward\"\n",
        "        return gradient * self.gradient"
      ],
      "metadata": {
        "id": "mS8XWnakDzoL"
      },
      "execution_count": null,
      "outputs": []
    },
    {
      "cell_type": "code",
      "source": [
        "class SoftmaxOutputLayer(NeuralNetLayer):\n",
        "    def __init__(self):\n",
        "        super().__init__()\n",
        "        self.cur_probs = None\n",
        "\n",
        "    def forward(self, x):\n",
        "        exps = np.exp(x)\n",
        "        probs = (exps+0.001) / (np.sum((exps+0.001), axis=-1))[:, None]\n",
        "        self.cur_probs = probs\n",
        "        return probs\n",
        "\n",
        "    def backward(self, target):\n",
        "        assert self.cur_probs is not None, \"Must call forward before backward\"\n",
        "        return self.cur_probs - target"
      ],
      "metadata": {
        "id": "GO2sUE5OEEo0"
      },
      "execution_count": null,
      "outputs": []
    },
    {
      "cell_type": "code",
      "source": [
        "import random\n",
        "class MLP:\n",
        "    def __init__(self, *args: List[NeuralNetLayer]):\n",
        "        self.layers = args\n",
        "\n",
        "    def forward(self, x):\n",
        "        for layer in self.layers:\n",
        "            x = layer.forward(x)\n",
        "        return x\n",
        "\n",
        "    def backward(self, target):\n",
        "        for layer in self.layers[::-1]:\n",
        "            target = layer.backward(target)\n",
        "    def fit(self, lr: float, data_x, data_y, steps,batch_size):\n",
        "        opt = GradientDescentOptimizer(self, lr)\n",
        "        losses = []\n",
        "        for _ in tqdm(range(steps)):\n",
        "            indices = np.arange(data_x.shape[0])\n",
        "            np.random.shuffle(indices)\n",
        "            for ind in range(0, data_x.shape[0] - batch_size + 1, batch_size):\n",
        "                mb_ind = indices[ind:ind + batch_size]\n",
        "                minix = data_x[mb_ind]\n",
        "                miniy = data_y[mb_ind]\n",
        "                labels = np.eye(10)[np.array(miniy)]\n",
        "                predictions = self.forward(minix)\n",
        "                loss = -(labels * np.log(predictions)).sum(axis=-1).mean()\n",
        "                losses.append(loss)\n",
        "                self.backward(labels)\n",
        "                opt.step()\n",
        "            \n",
        "        plt.plot(losses)\n",
        "        plt.xlabel(\"Epoch\")\n",
        "        plt.ylabel(\"Cross entropy loss\")\n",
        "    def predict(self, xtest):\n",
        "        prob = self.forward(xtest)\n",
        "        pred = prob.argmax(axis=1)\n",
        "        return pred"
      ],
      "metadata": {
        "id": "tle8mjI-BaNq"
      },
      "execution_count": null,
      "outputs": []
    },
    {
      "cell_type": "code",
      "source": [
        "class Optimizer:\n",
        "    def __init__(self, net: MLP):\n",
        "        self.net = net\n",
        "\n",
        "    def step(self):\n",
        "        for layer in self.net.layers[::-1]:\n",
        "            if layer.parameters is not None:\n",
        "                self.update(layer.parameters, layer.gradient)\n",
        "\n",
        "    def update(self, params, gradient):\n",
        "        raise NotImplementedError\n",
        "\n",
        "class GradientDescentOptimizer(Optimizer):\n",
        "    def __init__(self, net: MLP, lr: float):\n",
        "        super().__init__(net)\n",
        "        self.lr = lr\n",
        "\n",
        "    def update(self, params, gradient):\n",
        "        for (p, g) in zip(params, gradient):\n",
        "          # g+=2*0.1*p[0]\n",
        "          # p -= self.lr * g.mean(axis=0) \n",
        "          p -= self.lr * g.mean(axis=0)"
      ],
      "metadata": {
        "id": "be2Al-8dEOBD"
      },
      "execution_count": null,
      "outputs": []
    },
    {
      "cell_type": "code",
      "source": [
        "#Accuracy Function\n",
        "#Accuracy = correctly classified / total classified\n",
        "def accuracy_score(y_true,y_pred):\n",
        "\n",
        "  accuracy_score=sum(y_true==y_pred)/len(y_true)\n",
        "  return accuracy_score"
      ],
      "metadata": {
        "id": "IDIJ3TGCutsl"
      },
      "execution_count": null,
      "outputs": []
    },
    {
      "cell_type": "markdown",
      "source": [
        "**Task 3** "
      ],
      "metadata": {
        "id": "VUO0vr0hs6oN"
      }
    },
    {
      "cell_type": "markdown",
      "source": [
        "**3.1 Three models with no hidden layer, 1 hidden layer, and 2 hidden layers**"
      ],
      "metadata": {
        "id": "qI3JFCJotA5u"
      }
    },
    {
      "cell_type": "code",
      "source": [
        "HIDDEN_SIZE = 128\n",
        "GRADIENT_STEPS = 10\n",
        "BATCH_SIZE = 2000"
      ],
      "metadata": {
        "id": "cq4FtJAdtSOp"
      },
      "execution_count": null,
      "outputs": []
    },
    {
      "cell_type": "code",
      "source": [
        "mlp1 = MLP(\n",
        "    LinearLayer(n_features, 10, 0),\n",
        "    SoftmaxOutputLayer()\n",
        ")\n",
        "\n",
        "mlp1.fit(1e-2, x_train, y_train, GRADIENT_STEPS,BATCH_SIZE)"
      ],
      "metadata": {
        "colab": {
          "base_uri": "https://localhost:8080/",
          "height": 297
        },
        "id": "hXlMYyoqtaq2",
        "outputId": "5f242ff0-53a8-4745-ee40-d3176761384b"
      },
      "execution_count": null,
      "outputs": [
        {
          "output_type": "stream",
          "name": "stderr",
          "text": [
            "100%|██████████| 10/10 [01:04<00:00,  6.41s/it]\n"
          ]
        },
        {
          "output_type": "display_data",
          "data": {
            "text/plain": [
              "<Figure size 432x288 with 1 Axes>"
            ],
            "image/png": "[encoded data removed]"
          },
          "metadata": {
            "needs_background": "light"
          }
        }
      ]
    },
    {
      "cell_type": "code",
      "source": [
        "p1 = mlp1.predict(x_test)\n",
        "acc = accuracy_score(y_test,p1)\n",
        "acc"
      ],
      "metadata": {
        "colab": {
          "base_uri": "https://localhost:8080/"
        },
        "id": "WfzyoeAqta5D",
        "outputId": "a0c95ff1-9126-434c-da8a-52731d93c21e"
      },
      "execution_count": null,
      "outputs": [
        {
          "output_type": "execute_result",
          "data": {
            "text/plain": [
              "0.6595"
            ]
          },
          "metadata": {},
          "execution_count": 29
        }
      ]
    },
    {
      "cell_type": "code",
      "source": [
        "mlp2 = MLP(\n",
        "    LinearLayer(n_features, HIDDEN_SIZE, 0),\n",
        "    ReLULayer(),\n",
        "    LinearLayer(HIDDEN_SIZE, 10, 0),\n",
        "    SoftmaxOutputLayer()\n",
        ")\n",
        "\n",
        "mlp2.fit(1e-2, x_train, y_train, GRADIENT_STEPS,BATCH_SIZE)"
      ],
      "metadata": {
        "colab": {
          "base_uri": "https://localhost:8080/",
          "height": 297
        },
        "id": "1j7sYwROvRZw",
        "outputId": "ffc04392-7fe1-4bd6-dde1-a76b20f19521"
      },
      "execution_count": null,
      "outputs": [
        {
          "output_type": "stream",
          "name": "stderr",
          "text": [
            "100%|██████████| 10/10 [08:31<00:00, 51.16s/it]\n"
          ]
        },
        {
          "output_type": "display_data",
          "data": {
            "text/plain": [
              "<Figure size 432x288 with 1 Axes>"
            ],
            "image/png": "[encoded data removed]"
          },
          "metadata": {
            "needs_background": "light"
          }
        }
      ]
    },
    {
      "cell_type": "code",
      "source": [
        "p2 = mlp2.predict(x_test)\n",
        "acc2 = accuracy_score(y_test,p2)\n",
        "acc2"
      ],
      "metadata": {
        "colab": {
          "base_uri": "https://localhost:8080/"
        },
        "id": "HdQNs69fvc_3",
        "outputId": "b893a2cb-0d55-4b55-dd0c-7c4dc2dac3c5"
      },
      "execution_count": null,
      "outputs": [
        {
          "output_type": "execute_result",
          "data": {
            "text/plain": [
              "0.7286"
            ]
          },
          "metadata": {},
          "execution_count": 31
        }
      ]
    },
    {
      "cell_type": "code",
      "source": [
        "\n",
        "mlp3 = MLP(\n",
        "    LinearLayer(n_features, HIDDEN_SIZE, 0),\n",
        "    ReLULayer(),\n",
        "    LinearLayer(HIDDEN_SIZE, HIDDEN_SIZE, 0),\n",
        "    ReLULayer(),\n",
        "    LinearLayer(HIDDEN_SIZE, 10, 0),\n",
        "    SoftmaxOutputLayer()\n",
        ")\n",
        "\n",
        "mlp3.fit(1e-2, x_train, y_train, GRADIENT_STEPS,BATCH_SIZE)\n"
      ],
      "metadata": {
        "colab": {
          "base_uri": "https://localhost:8080/"
        },
        "id": "BB1_INmBCg9f",
        "outputId": "20eaf0b9-744e-46c7-e518-e4de9d3ce9a8"
      },
      "execution_count": null,
      "outputs": [
        {
          "output_type": "stream",
          "name": "stderr",
          "text": [
            " 70%|███████   | 7/10 [06:14<02:42, 54.33s/it]"
          ]
        }
      ]
    },
    {
      "cell_type": "code",
      "source": [
        "p3 = mlp3.predict(x_test)\n",
        "acc3 = accuracy_score(y_test,p3)\n",
        "acc3"
      ],
      "metadata": {
        "colab": {
          "base_uri": "https://localhost:8080/"
        },
        "id": "pInlKBsGDVRp",
        "outputId": "96b227eb-e1d7-413d-8871-8c0d2ec97fd2"
      },
      "execution_count": null,
      "outputs": [
        {
          "output_type": "execute_result",
          "data": {
            "text/plain": [
              "0.7713"
            ]
          },
          "metadata": {},
          "execution_count": 120
        }
      ]
    },
    {
      "cell_type": "markdown",
      "source": [
        "**3.2 Model using tanh and Leaky-ReLU function**"
      ],
      "metadata": {
        "id": "n1LG-XAFwKmO"
      }
    },
    {
      "cell_type": "code",
      "source": [
        "class TanhLayer(NeuralNetLayer):\n",
        "    def __init__(self):\n",
        "        super().__init__()\n",
        "        \n",
        "    def forward(self, x):\n",
        "        tan = np.tanh(x)\n",
        "        tansquare = tan * tan\n",
        "        self.gradient = 1 - tansquare\n",
        "        return tan\n",
        "\n",
        "    def backward(self, gradient):\n",
        "        assert self.gradient is not None, \"Must call forward before backward\"\n",
        "        return gradient * self.gradient"
      ],
      "metadata": {
        "id": "HgcUsR8azphk"
      },
      "execution_count": null,
      "outputs": []
    },
    {
      "cell_type": "code",
      "source": [
        "class LeakyReLULayer(NeuralNetLayer):\n",
        "    def __init__(self):\n",
        "        super().__init__()\n",
        "        \n",
        "    def forward(self, x):\n",
        "        alpha = 0.01\n",
        "        self.gradient = np.where(x > 0, 1.0, alpha)\n",
        "        return np.maximum(0, x) + alpha * np.minimum(0, x)\n",
        "\n",
        "    def backward(self, gradient):\n",
        "        assert self.gradient is not None, \"Must call forward before backward\"\n",
        "        return gradient * self.gradient"
      ],
      "metadata": {
        "id": "rY8P6lx2zvqP"
      },
      "execution_count": null,
      "outputs": []
    },
    {
      "cell_type": "code",
      "source": [
        "mlp_tanh = MLP(\n",
        "    LinearLayer(n_features, HIDDEN_SIZE, 0),\n",
        "    TanhLayer(),\n",
        "    LinearLayer(HIDDEN_SIZE, HIDDEN_SIZE, 0),\n",
        "    TanhLayer(),\n",
        "    LinearLayer(HIDDEN_SIZE, 10, 0),\n",
        "    SoftmaxOutputLayer()\n",
        ")\n",
        "\n",
        "mlp_tanh.fit(1e-2, x_train, y_train, GRADIENT_STEPS,BATCH_SIZE)\n",
        "\n",
        "p_tanh = mlp_tanh.predict(x_test)\n",
        "acc_tanh = accuracy_score(y_test,p_tanh)\n",
        "acc_tanh"
      ],
      "metadata": {
        "id": "Pqzxg3y_xOnu"
      },
      "execution_count": null,
      "outputs": []
    },
    {
      "cell_type": "code",
      "source": [
        "mlp_leaky = MLP(\n",
        "    LinearLayer(n_features, HIDDEN_SIZE, 0),\n",
        "    LeakyReLULayer(),\n",
        "    LinearLayer(HIDDEN_SIZE, HIDDEN_SIZE, 0),\n",
        "    LeakyReLULayer(),\n",
        "    LinearLayer(HIDDEN_SIZE, 10, 0),\n",
        "    SoftmaxOutputLayer()\n",
        ")\n",
        "\n",
        "mlp_leaky.fit(1e-2, x_train, y_train, GRADIENT_STEPS,BATCH_SIZE)\n",
        "\n",
        "p_leaky = mlp_leaky.predict(x_test)\n",
        "acc_leaky = accuracy_score(y_test,p_leaky)\n",
        "acc_leaky"
      ],
      "metadata": {
        "id": "YXJWMpQEx1B4"
      },
      "execution_count": null,
      "outputs": []
    },
    {
      "cell_type": "markdown",
      "source": [
        "**3.3 Add L2 regularization**"
      ],
      "metadata": {
        "id": "DocKDtFRyHZM"
      }
    },
    {
      "cell_type": "code",
      "source": [
        "def create_ReLU_MLP(l2:float):\n",
        "  mlp = MLP(\n",
        "    LinearLayer(n_features, HIDDEN_SIZE, l2),\n",
        "    ReLULayer(),\n",
        "    LinearLayer(HIDDEN_SIZE, HIDDEN_SIZE, l2),\n",
        "    ReLULayer(),\n",
        "    LinearLayer(HIDDEN_SIZE, 10, l2),\n",
        "    SoftmaxOutputLayer())\n",
        "  return mlp"
      ],
      "metadata": {
        "id": "NHjsD8Va1s6u"
      },
      "execution_count": null,
      "outputs": []
    },
    {
      "cell_type": "code",
      "source": [
        "lambdavalue = 0.1\n",
        "mlp_l2 = create_ReLU_MLP(lambdavalue)\n",
        "\n",
        "mlp_l2.fit(1e-2, x_train, y_train, GRADIENT_STEPS,BATCH_SIZE)\n",
        "\n",
        "p_l2 = mlp_l2.predict(x_test)\n",
        "acc_l2 = accuracy_score(y_test,p_l2)\n",
        "acc_l2"
      ],
      "metadata": {
        "id": "yauBbArAyOY1",
        "colab": {
          "base_uri": "https://localhost:8080/",
          "height": 413
        },
        "outputId": "a73aaa46-3332-431c-da83-24363b56e46f"
      },
      "execution_count": null,
      "outputs": [
        {
          "output_type": "stream",
          "name": "stderr",
          "text": [
            "  0%|          | 0/10 [00:04<?, ?it/s]\n"
          ]
        },
        {
          "output_type": "error",
          "ename": "KeyboardInterrupt",
          "evalue": "ignored",
          "traceback": [
            "\u001b[0;31m---------------------------------------------------------------------------\u001b[0m",
            "\u001b[0;31mKeyboardInterrupt\u001b[0m                         Traceback (most recent call last)",
            "\u001b[0;32m<ipython-input-33-912da6b72f6d>\u001b[0m in \u001b[0;36m<module>\u001b[0;34m\u001b[0m\n\u001b[1;32m      2\u001b[0m \u001b[0mmlp_l2\u001b[0m \u001b[0;34m=\u001b[0m \u001b[0mcreate_ReLU_MLP\u001b[0m\u001b[0;34m(\u001b[0m\u001b[0mlambdavalue\u001b[0m\u001b[0;34m)\u001b[0m\u001b[0;34m\u001b[0m\u001b[0;34m\u001b[0m\u001b[0m\n\u001b[1;32m      3\u001b[0m \u001b[0;34m\u001b[0m\u001b[0m\n\u001b[0;32m----> 4\u001b[0;31m \u001b[0mmlp_l2\u001b[0m\u001b[0;34m.\u001b[0m\u001b[0mfit\u001b[0m\u001b[0;34m(\u001b[0m\u001b[0;36m1e-2\u001b[0m\u001b[0;34m,\u001b[0m \u001b[0mx_train\u001b[0m\u001b[0;34m,\u001b[0m \u001b[0my_train\u001b[0m\u001b[0;34m,\u001b[0m \u001b[0mGRADIENT_STEPS\u001b[0m\u001b[0;34m,\u001b[0m\u001b[0mBATCH_SIZE\u001b[0m\u001b[0;34m)\u001b[0m\u001b[0;34m\u001b[0m\u001b[0;34m\u001b[0m\u001b[0m\n\u001b[0m\u001b[1;32m      5\u001b[0m \u001b[0;34m\u001b[0m\u001b[0m\n\u001b[1;32m      6\u001b[0m \u001b[0mp_l2\u001b[0m \u001b[0;34m=\u001b[0m \u001b[0mmlp_l2\u001b[0m\u001b[0;34m.\u001b[0m\u001b[0mpredict\u001b[0m\u001b[0;34m(\u001b[0m\u001b[0mx_test\u001b[0m\u001b[0;34m)\u001b[0m\u001b[0;34m\u001b[0m\u001b[0;34m\u001b[0m\u001b[0m\n",
            "\u001b[0;32m<ipython-input-13-c191bddd7a57>\u001b[0m in \u001b[0;36mfit\u001b[0;34m(self, lr, data_x, data_y, steps, batch_size)\u001b[0m\n\u001b[1;32m     26\u001b[0m                 \u001b[0mloss\u001b[0m \u001b[0;34m=\u001b[0m \u001b[0;34m-\u001b[0m\u001b[0;34m(\u001b[0m\u001b[0mlabels\u001b[0m \u001b[0;34m*\u001b[0m \u001b[0mnp\u001b[0m\u001b[0;34m.\u001b[0m\u001b[0mlog\u001b[0m\u001b[0;34m(\u001b[0m\u001b[0mpredictions\u001b[0m\u001b[0;34m)\u001b[0m\u001b[0;34m)\u001b[0m\u001b[0;34m.\u001b[0m\u001b[0msum\u001b[0m\u001b[0;34m(\u001b[0m\u001b[0maxis\u001b[0m\u001b[0;34m=\u001b[0m\u001b[0;34m-\u001b[0m\u001b[0;36m1\u001b[0m\u001b[0;34m)\u001b[0m\u001b[0;34m.\u001b[0m\u001b[0mmean\u001b[0m\u001b[0;34m(\u001b[0m\u001b[0;34m)\u001b[0m\u001b[0;34m\u001b[0m\u001b[0;34m\u001b[0m\u001b[0m\n\u001b[1;32m     27\u001b[0m                 \u001b[0mlosses\u001b[0m\u001b[0;34m.\u001b[0m\u001b[0mappend\u001b[0m\u001b[0;34m(\u001b[0m\u001b[0mloss\u001b[0m\u001b[0;34m)\u001b[0m\u001b[0;34m\u001b[0m\u001b[0;34m\u001b[0m\u001b[0m\n\u001b[0;32m---> 28\u001b[0;31m                 \u001b[0mself\u001b[0m\u001b[0;34m.\u001b[0m\u001b[0mbackward\u001b[0m\u001b[0;34m(\u001b[0m\u001b[0mlabels\u001b[0m\u001b[0;34m)\u001b[0m\u001b[0;34m\u001b[0m\u001b[0;34m\u001b[0m\u001b[0m\n\u001b[0m\u001b[1;32m     29\u001b[0m                 \u001b[0mopt\u001b[0m\u001b[0;34m.\u001b[0m\u001b[0mstep\u001b[0m\u001b[0;34m(\u001b[0m\u001b[0;34m)\u001b[0m\u001b[0;34m\u001b[0m\u001b[0;34m\u001b[0m\u001b[0m\n\u001b[1;32m     30\u001b[0m \u001b[0;34m\u001b[0m\u001b[0m\n",
            "\u001b[0;32m<ipython-input-13-c191bddd7a57>\u001b[0m in \u001b[0;36mbackward\u001b[0;34m(self, target)\u001b[0m\n\u001b[1;32m     11\u001b[0m     \u001b[0;32mdef\u001b[0m \u001b[0mbackward\u001b[0m\u001b[0;34m(\u001b[0m\u001b[0mself\u001b[0m\u001b[0;34m,\u001b[0m \u001b[0mtarget\u001b[0m\u001b[0;34m)\u001b[0m\u001b[0;34m:\u001b[0m\u001b[0;34m\u001b[0m\u001b[0;34m\u001b[0m\u001b[0m\n\u001b[1;32m     12\u001b[0m         \u001b[0;32mfor\u001b[0m \u001b[0mlayer\u001b[0m \u001b[0;32min\u001b[0m \u001b[0mself\u001b[0m\u001b[0;34m.\u001b[0m\u001b[0mlayers\u001b[0m\u001b[0;34m[\u001b[0m\u001b[0;34m:\u001b[0m\u001b[0;34m:\u001b[0m\u001b[0;34m-\u001b[0m\u001b[0;36m1\u001b[0m\u001b[0;34m]\u001b[0m\u001b[0;34m:\u001b[0m\u001b[0;34m\u001b[0m\u001b[0;34m\u001b[0m\u001b[0m\n\u001b[0;32m---> 13\u001b[0;31m             \u001b[0mtarget\u001b[0m \u001b[0;34m=\u001b[0m \u001b[0mlayer\u001b[0m\u001b[0;34m.\u001b[0m\u001b[0mbackward\u001b[0m\u001b[0;34m(\u001b[0m\u001b[0mtarget\u001b[0m\u001b[0;34m)\u001b[0m\u001b[0;34m\u001b[0m\u001b[0;34m\u001b[0m\u001b[0m\n\u001b[0m\u001b[1;32m     14\u001b[0m     \u001b[0;32mdef\u001b[0m \u001b[0mfit\u001b[0m\u001b[0;34m(\u001b[0m\u001b[0mself\u001b[0m\u001b[0;34m,\u001b[0m \u001b[0mlr\u001b[0m\u001b[0;34m:\u001b[0m \u001b[0mfloat\u001b[0m\u001b[0;34m,\u001b[0m \u001b[0mdata_x\u001b[0m\u001b[0;34m,\u001b[0m \u001b[0mdata_y\u001b[0m\u001b[0;34m,\u001b[0m \u001b[0msteps\u001b[0m\u001b[0;34m,\u001b[0m\u001b[0mbatch_size\u001b[0m\u001b[0;34m)\u001b[0m\u001b[0;34m:\u001b[0m\u001b[0;34m\u001b[0m\u001b[0;34m\u001b[0m\u001b[0m\n\u001b[1;32m     15\u001b[0m         \u001b[0mopt\u001b[0m \u001b[0;34m=\u001b[0m \u001b[0mGradientDescentOptimizer\u001b[0m\u001b[0;34m(\u001b[0m\u001b[0mself\u001b[0m\u001b[0;34m,\u001b[0m \u001b[0mlr\u001b[0m\u001b[0;34m)\u001b[0m\u001b[0;34m\u001b[0m\u001b[0;34m\u001b[0m\u001b[0m\n",
            "\u001b[0;32m<ipython-input-10-d66c6eace9af>\u001b[0m in \u001b[0;36mbackward\u001b[0;34m(self, gradient)\u001b[0m\n\u001b[1;32m     18\u001b[0m         \u001b[0;31m#dw = gradient.dot(self.cur_input)\u001b[0m\u001b[0;34m\u001b[0m\u001b[0;34m\u001b[0m\u001b[0;34m\u001b[0m\u001b[0m\n\u001b[1;32m     19\u001b[0m         \u001b[0;31m#dw = gradient[:, :, None] @ self.cur_input[:, None, :] + 0.0001/self.no*self.w\u001b[0m\u001b[0;34m\u001b[0m\u001b[0;34m\u001b[0m\u001b[0;34m\u001b[0m\u001b[0m\n\u001b[0;32m---> 20\u001b[0;31m         \u001b[0mdw\u001b[0m \u001b[0;34m=\u001b[0m \u001b[0mgradient\u001b[0m\u001b[0;34m[\u001b[0m\u001b[0;34m:\u001b[0m\u001b[0;34m,\u001b[0m \u001b[0;34m:\u001b[0m\u001b[0;34m,\u001b[0m \u001b[0;32mNone\u001b[0m\u001b[0;34m]\u001b[0m \u001b[0;34m@\u001b[0m \u001b[0mself\u001b[0m\u001b[0;34m.\u001b[0m\u001b[0mcur_input\u001b[0m\u001b[0;34m[\u001b[0m\u001b[0;34m:\u001b[0m\u001b[0;34m,\u001b[0m \u001b[0;32mNone\u001b[0m\u001b[0;34m,\u001b[0m \u001b[0;34m:\u001b[0m\u001b[0;34m]\u001b[0m \u001b[0;34m+\u001b[0m \u001b[0mself\u001b[0m\u001b[0;34m.\u001b[0m\u001b[0ml2\u001b[0m\u001b[0;34m*\u001b[0m\u001b[0mself\u001b[0m\u001b[0;34m.\u001b[0m\u001b[0mw\u001b[0m\u001b[0;34m\u001b[0m\u001b[0;34m\u001b[0m\u001b[0m\n\u001b[0m\u001b[1;32m     21\u001b[0m         \u001b[0mdb\u001b[0m \u001b[0;34m=\u001b[0m \u001b[0mgradient\u001b[0m\u001b[0;34m\u001b[0m\u001b[0;34m\u001b[0m\u001b[0m\n\u001b[1;32m     22\u001b[0m         \u001b[0mself\u001b[0m\u001b[0;34m.\u001b[0m\u001b[0mgradient\u001b[0m \u001b[0;34m=\u001b[0m \u001b[0;34m[\u001b[0m\u001b[0mdw\u001b[0m\u001b[0;34m,\u001b[0m \u001b[0mdb\u001b[0m\u001b[0;34m]\u001b[0m\u001b[0;34m\u001b[0m\u001b[0;34m\u001b[0m\u001b[0m\n",
            "\u001b[0;31mKeyboardInterrupt\u001b[0m: "
          ]
        }
      ]
    },
    {
      "cell_type": "markdown",
      "source": [
        "**3.4 Train the model with unnormalized images**"
      ],
      "metadata": {
        "id": "Wj8jBCskyqpF"
      }
    },
    {
      "cell_type": "code",
      "source": [
        "\n",
        "mlp_unnorm = create_ReLU_MLP(lambdavalue)\n",
        "train_unnorm.fit(1e-5, x_train, y_train, GRADIENT_STEPS,BATCH_SIZE)\n",
        "\n",
        "p_unnorm = mlp_unnorm.predict(x_test_unnorm)\n",
        "acc_unnorm = accuracy_score(y_test,p_unnorm)\n",
        "acc_unnorm"
      ],
      "metadata": {
        "id": "zVcsQdGkyyTu"
      },
      "execution_count": null,
      "outputs": []
    },
    {
      "cell_type": "markdown",
      "source": [
        "**3.5 CNN**"
      ],
      "metadata": {
        "id": "uQOH5wAoOsPp"
      }
    },
    {
      "cell_type": "code",
      "source": [
        "import matplotlib.pyplot as plt\n",
        "import tensorflow as tf\n",
        "from keras import models, datasets, layers\n",
        "import numpy as np\n",
        "import pandas as pd\n",
        "import itertools\n",
        "from sklearn.model_selection import train_test_split"
      ],
      "metadata": {
        "id": "II3a1NweOuL0"
      },
      "execution_count": null,
      "outputs": []
    },
    {
      "cell_type": "code",
      "execution_count": null,
      "metadata": {
        "id": "a2mZhu6nAHRx"
      },
      "outputs": [],
      "source": [
        "(training_images, training_labels), (test_images, test_labels) = datasets.fashion_mnist.load_data()"
      ]
    },
    {
      "cell_type": "code",
      "source": [
        "nlabels = [0,0,0,0,0,0,0,0,0,0]\n",
        "for label in training_labels:\n",
        "  nlabels[label] = nlabels[label] + 1\n",
        "print(nlabels)"
      ],
      "metadata": {
        "colab": {
          "base_uri": "https://localhost:8080/"
        },
        "id": "iuPvVpk4_nsg",
        "outputId": "3f037351-ff5b-402f-dd95-6a6ed85aef34"
      },
      "execution_count": null,
      "outputs": [
        {
          "output_type": "stream",
          "name": "stdout",
          "text": [
            "[6000, 6000, 6000, 6000, 6000, 6000, 6000, 6000, 6000, 6000]\n"
          ]
        }
      ]
    },
    {
      "cell_type": "code",
      "source": [
        "training_images = training_images.reshape(60000, 28, 28, 1)\n",
        "test_images = test_images.reshape(10000, 28, 28, 1)"
      ],
      "metadata": {
        "id": "l7HFpKQZ_4CI"
      },
      "execution_count": null,
      "outputs": []
    },
    {
      "cell_type": "code",
      "source": [
        "training_images, test_images = training_images / 255.0, test_images / 255.0\n"
      ],
      "metadata": {
        "id": "FoU-gUXVCAiD"
      },
      "execution_count": null,
      "outputs": []
    },
    {
      "cell_type": "code",
      "source": [
        "model = models.Sequential([\n",
        "    layers.Conv2D(128, (3, 3), activation='relu', input_shape=(28, 28, 1)),\n",
        "    layers.MaxPooling2D(2, 2),\n",
        "    layers.Conv2D(128, (3, 3), activation='relu'),\n",
        "    layers.MaxPooling2D(2, 2),\n",
        "    layers.Flatten(),\n",
        "    layers.Dense(128, activation ='relu'),\n",
        "    layers.Dense(10, activation ='softmax')\n",
        "])"
      ],
      "metadata": {
        "id": "LJZIME2ECknI"
      },
      "execution_count": null,
      "outputs": []
    },
    {
      "cell_type": "code",
      "source": [
        "model.compile(optimizer='adam', loss='sparse_categorical_crossentropy', metrics=['accuracy'])"
      ],
      "metadata": {
        "id": "mjWSEkBJDZ9i"
      },
      "execution_count": null,
      "outputs": []
    },
    {
      "cell_type": "code",
      "source": [
        "history = model.fit(training_images, training_labels, epochs=5, validation_data=(test_images, test_labels))"
      ],
      "metadata": {
        "colab": {
          "base_uri": "https://localhost:8080/"
        },
        "id": "WUxp21RqDquE",
        "outputId": "260827da-d1aa-4d0a-92a0-8be21a57c9e2"
      },
      "execution_count": null,
      "outputs": [
        {
          "output_type": "stream",
          "name": "stdout",
          "text": [
            "Epoch 1/5\n",
            "1875/1875 [==============================] - 256s 136ms/step - loss: 0.4229 - accuracy: 0.8451 - val_loss: 0.3274 - val_accuracy: 0.8818\n",
            "Epoch 2/5\n",
            "1875/1875 [==============================] - 252s 135ms/step - loss: 0.2811 - accuracy: 0.8973 - val_loss: 0.3096 - val_accuracy: 0.8864\n",
            "Epoch 3/5\n",
            "1875/1875 [==============================] - 250s 133ms/step - loss: 0.2324 - accuracy: 0.9138 - val_loss: 0.2612 - val_accuracy: 0.9052\n",
            "Epoch 4/5\n",
            "1875/1875 [==============================] - 252s 135ms/step - loss: 0.1971 - accuracy: 0.9264 - val_loss: 0.2519 - val_accuracy: 0.9109\n",
            "Epoch 5/5\n",
            "1875/1875 [==============================] - 251s 134ms/step - loss: 0.1709 - accuracy: 0.9362 - val_loss: 0.2401 - val_accuracy: 0.9171\n"
          ]
        }
      ]
    },
    {
      "cell_type": "code",
      "source": [
        "plt.plot(history.history['accuracy'], label='training accuracy')\n",
        "plt.plot(history.history['val_accuracy'], label='testing accuracy')\n",
        "plt.xlabel('Epochs')\n",
        "plt.ylabel('Accuracy')\n",
        "plt.ylim=([0.5, 1])\n",
        "plt.legend(loc='lower right')\n",
        "plt.savefig(\"CNN 5 epochs\", bbox_inches=\"tight\", dpi=300)"
      ],
      "metadata": {
        "id": "eBE4mKnIDmVu",
        "colab": {
          "base_uri": "https://localhost:8080/",
          "height": 282
        },
        "outputId": "a8bebe19-65cf-40da-e1ef-e15ea9933861"
      },
      "execution_count": null,
      "outputs": [
        {
          "output_type": "display_data",
          "data": {
            "text/plain": [
              "<Figure size 432x288 with 1 Axes>"
            ],
            "image/png": "[encoded data removed]"
          },
          "metadata": {
            "needs_background": "light"
          }
        }
      ]
    },
    {
      "cell_type": "markdown",
      "source": [
        "**3.6 Test for the best lambda value and activation function to construct MLP**\n"
      ],
      "metadata": {
        "id": "0v8dkN-B01wb"
      }
    },
    {
      "cell_type": "code",
      "source": [
        "def create_LReLU_MLP(l2:float):\n",
        "  mlp = MLP(\n",
        "    LinearLayer(n_features, HIDDEN_SIZE, l2),\n",
        "    LeakyReLULayer(),\n",
        "    LinearLayer(HIDDEN_SIZE, HIDDEN_SIZE, l2),\n",
        "    LeakyReLULayer(),\n",
        "    LinearLayer(HIDDEN_SIZE, 10, l2),\n",
        "    SoftmaxOutputLayer())\n",
        "  return mlp"
      ],
      "metadata": {
        "id": "V8_SELUcnKSB"
      },
      "execution_count": null,
      "outputs": []
    },
    {
      "cell_type": "code",
      "source": [
        "import numpy as np\n",
        "lambdas = np.logspace(-2,0,3)\n",
        "accr = []\n",
        "for la in lambdas:\n",
        "  rmlp = create_ReLU_MLP(la)\n",
        "  lrmlp = create_LReLU_MLP(la)\n",
        "  rmlp.fit(1e-2, x_train, y_train, GRADIENT_STEPS,BATCH_SIZE)\n",
        "  acc = accuracy_score(y_test, rmlp.predict(x_test))\n",
        "  accr.append(acc)\n",
        "  lrmlp.fit(1e-2, x_train, y_train, GRADIENT_STEPS,BATCH_SIZE)\n",
        "  acc = accuracy_score(y_test, lrmlp.predict(x_test))\n",
        "  accr.append(acc)\n",
        "\n"
      ],
      "metadata": {
        "id": "Uf73Dgdu1OxN",
        "outputId": "0f8583c9-3226-4b99-d4df-d744871b48a2",
        "colab": {
          "base_uri": "https://localhost:8080/",
          "height": 423
        }
      },
      "execution_count": null,
      "outputs": [
        {
          "output_type": "stream",
          "name": "stderr",
          "text": [
            "100%|██████████| 10/10 [08:47<00:00, 52.72s/it]\n",
            "100%|██████████| 10/10 [08:55<00:00, 53.53s/it]\n",
            "100%|██████████| 10/10 [08:55<00:00, 53.53s/it]\n",
            "100%|██████████| 10/10 [08:59<00:00, 54.00s/it]\n",
            "100%|██████████| 10/10 [09:03<00:00, 54.31s/it]\n",
            "100%|██████████| 10/10 [09:04<00:00, 54.50s/it]\n",
            "100%|██████████| 10/10 [08:53<00:00, 53.34s/it]\n",
            "100%|██████████| 10/10 [09:02<00:00, 54.21s/it]\n"
          ]
        },
        {
          "output_type": "display_data",
          "data": {
            "text/plain": [
              "<Figure size 432x288 with 1 Axes>"
            ],
            "image/png": "[encoded data removed]"
          },
          "metadata": {
            "needs_background": "light"
          }
        }
      ]
    },
    {
      "cell_type": "code",
      "source": [
        "best_ind = accr.index(max(accr))\n",
        "best_lambda = lambdas[best_ind/2]\n",
        "## best lambda: 0.1, best activation function: ReLU"
      ],
      "metadata": {
        "id": "bLVWNLTFnjdU"
      },
      "execution_count": null,
      "outputs": []
    },
    {
      "cell_type": "markdown",
      "source": [
        "**3.7 Different number of epochs**"
      ],
      "metadata": {
        "id": "MzjX8vYOAlyd"
      }
    },
    {
      "cell_type": "code",
      "source": [
        "num_epochs = [10,20,30]\n",
        "acc_epochs = []\n",
        "mlp = create_ReLU_MLP2(64, 0)\n",
        "for k in range(3):\n",
        "  mlp.fit(1e-2, x_train, y_train, num_epochs[k],6000)\n",
        "  acc = accuracy_score(y_test, mlp.predict(x_test))\n",
        "  acc_epochs.append(acc)"
      ],
      "metadata": {
        "colab": {
          "base_uri": "https://localhost:8080/",
          "height": 333
        },
        "id": "VynU96Ds7uB0",
        "outputId": "60273432-d42c-474b-dee0-73d688abc085"
      },
      "execution_count": null,
      "outputs": [
        {
          "output_type": "stream",
          "name": "stderr",
          "text": [
            "100%|██████████| 10/10 [03:25<00:00, 20.56s/it]\n",
            "100%|██████████| 20/20 [07:03<00:00, 21.16s/it]\n",
            "100%|██████████| 30/30 [11:07<00:00, 22.25s/it]\n"
          ]
        },
        {
          "output_type": "display_data",
          "data": {
            "text/plain": [
              "<Figure size 432x288 with 1 Axes>"
            ],
            "image/png": "[encoded data removed]"
          },
          "metadata": {
            "needs_background": "light"
          }
        }
      ]
    },
    {
      "cell_type": "code",
      "source": [
        "xlabels = ['10', '30', '60']\n",
        "x = np.arange(3)\n",
        "plt.xticks(x, xlabels)\n",
        "plt.ylabel(\"accuracy\")\n",
        "plt.xlabel(\"number of epochs\")\n",
        "plt.plot(x,acc_epochs)\n",
        "plt.show()"
      ],
      "metadata": {
        "colab": {
          "base_uri": "https://localhost:8080/",
          "height": 283
        },
        "id": "RBFOKKWWOE0q",
        "outputId": "3ef00deb-1c68-4284-f9ba-0d11e2e9cdfa"
      },
      "execution_count": null,
      "outputs": [
        {
          "output_type": "display_data",
          "data": {
            "text/plain": [
              "<Figure size 432x288 with 1 Axes>"
            ],
            "image/png": "[encoded data removed]"
          },
          "metadata": {
            "needs_background": "light"
          }
        }
      ]
    },
    {
      "cell_type": "markdown",
      "source": [
        "**3.8 Creativity**"
      ],
      "metadata": {
        "id": "Yy3oXFOvQCUF"
      }
    },
    {
      "cell_type": "markdown",
      "source": [
        "How different number of units affects the accuracy of MLP"
      ],
      "metadata": {
        "id": "Cj1KpkJgAUSI"
      }
    },
    {
      "cell_type": "code",
      "source": [
        "def create_ReLU_MLP2(unit:int, l2:float):\n",
        "  mlp = MLP(\n",
        "    LinearLayer(n_features, unit, l2),\n",
        "    ReLULayer(),\n",
        "    LinearLayer(unit, unit, l2),\n",
        "    ReLULayer(),\n",
        "    LinearLayer(unit, 10, l2),\n",
        "    SoftmaxOutputLayer())\n",
        "  return mlp"
      ],
      "metadata": {
        "id": "rgYoU0-keeSl"
      },
      "execution_count": null,
      "outputs": []
    },
    {
      "cell_type": "code",
      "source": [
        "diff_units = [16,32,64]\n",
        "acc_unit = []\n",
        "for k in range(3):\n",
        "  mlp = create_ReLU_MLP2(diff_units[k], best_lambda)\n",
        "  mlp.fit(1e-2, x_train, y_train, GRADIENT_STEPS,BATCH_SIZE)\n",
        "  acc = accuracy_score(y_test, mlp.predict(x_test))\n",
        "  acc_unit.append(acc)"
      ],
      "metadata": {
        "colab": {
          "base_uri": "https://localhost:8080/",
          "height": 333
        },
        "id": "LaOwG0YGeuVD",
        "outputId": "24601dbc-8fb3-44c6-a06b-840e56ebfc0d"
      },
      "execution_count": null,
      "outputs": [
        {
          "output_type": "stream",
          "name": "stderr",
          "text": [
            "100%|██████████| 10/10 [01:24<00:00,  8.41s/it]\n",
            "100%|██████████| 10/10 [02:12<00:00, 13.24s/it]\n",
            "100%|██████████| 10/10 [04:14<00:00, 25.47s/it]\n"
          ]
        },
        {
          "output_type": "display_data",
          "data": {
            "text/plain": [
              "<Figure size 432x288 with 1 Axes>"
            ],
            "image/png": "[encoded data removed]"
          },
          "metadata": {
            "needs_background": "light"
          }
        }
      ]
    },
    {
      "cell_type": "code",
      "source": [
        "print(acc_unit)"
      ],
      "metadata": {
        "colab": {
          "base_uri": "https://localhost:8080/"
        },
        "id": "G0xzyFl5jlPF",
        "outputId": "e213fabe-7f4c-4a74-c99c-181fa8de2586"
      },
      "execution_count": null,
      "outputs": [
        {
          "output_type": "stream",
          "name": "stdout",
          "text": [
            "[0.6339, 0.7057, 0.7494, 0.7661]\n"
          ]
        }
      ]
    },
    {
      "cell_type": "code",
      "source": [
        "xlabels = ['16', '32', '64', '128']\n",
        "x = np.arange(4)\n",
        "plt.xticks(x, xlabels)\n",
        "plt.ylabel(\"accuracy\")\n",
        "plt.xlabel(\"number of units\")\n",
        "acc_unit.append(acc_l2)\n",
        "plt.plot(x,acc_unit)\n",
        "plt.show()"
      ],
      "metadata": {
        "colab": {
          "base_uri": "https://localhost:8080/",
          "height": 279
        },
        "id": "ybyvzkOY5jgB",
        "outputId": "6de88b63-d00c-4d77-de4b-5a063eec4ffc"
      },
      "execution_count": null,
      "outputs": [
        {
          "output_type": "display_data",
          "data": {
            "text/plain": [
              "<Figure size 432x288 with 1 Axes>"
            ],
            "image/png": "[encoded data removed]"
          },
          "metadata": {
            "needs_background": "light"
          }
        }
      ]
    },
    {
      "cell_type": "markdown",
      "source": [
        "How different filter size affects the accuracy of CNN"
      ],
      "metadata": {
        "id": "mGJ5lPckQItZ"
      }
    },
    {
      "cell_type": "code",
      "source": [
        "size = [2,3,4,5,6]\n",
        "testing_acc = []\n",
        "training_acc = []\n",
        "for s in size:\n",
        "  model = models.Sequential([\n",
        "    layers.Conv2D(64, (s, s), activation='relu', input_shape=(28, 28, 1)),\n",
        "    layers.MaxPooling2D(2, 2),\n",
        "    layers.Conv2D(64, (s, s), activation='relu'),\n",
        "    layers.MaxPooling2D(2, 2),\n",
        "    layers.Flatten(),\n",
        "    layers.Dense(128, activation ='relu'),\n",
        "    layers.Dense(10, activation ='softmax')\n",
        "  ])\n",
        "  model.compile(optimizer='adam', loss='sparse_categorical_crossentropy', metrics=['accuracy'])\n",
        "  history = model.fit(training_images, training_labels, epochs=1, validation_data=(test_images, test_labels))\n",
        "  training_acc.append(history.history['accuracy'])\n",
        "  testing_acc.append(history.history['val_accuracy'])\n",
        "\n"
      ],
      "metadata": {
        "colab": {
          "base_uri": "https://localhost:8080/"
        },
        "id": "gzG0LyuveX_F",
        "outputId": "97140cb8-862f-4695-8c79-7058a138ce88"
      },
      "execution_count": null,
      "outputs": [
        {
          "output_type": "stream",
          "name": "stdout",
          "text": [
            "1875/1875 [==============================] - 80s 43ms/step - loss: 0.4211 - accuracy: 0.8474 - val_loss: 0.3274 - val_accuracy: 0.8804\n",
            "1875/1875 [==============================] - 108s 57ms/step - loss: 0.4377 - accuracy: 0.8423 - val_loss: 0.3467 - val_accuracy: 0.8749\n",
            "1875/1875 [==============================] - 131s 70ms/step - loss: 0.4669 - accuracy: 0.8306 - val_loss: 0.3649 - val_accuracy: 0.8685\n",
            "1875/1875 [==============================] - 148s 79ms/step - loss: 0.4516 - accuracy: 0.8347 - val_loss: 0.3639 - val_accuracy: 0.8680\n",
            "1875/1875 [==============================] - 138s 73ms/step - loss: 0.4737 - accuracy: 0.8292 - val_loss: 0.4111 - val_accuracy: 0.8571\n"
          ]
        }
      ]
    },
    {
      "cell_type": "code",
      "source": [
        "loc = np.arange(5)\n",
        "xlabels = ['(2,2)', '(3,3)', '(4,4)', '(5,5)', '(6,6)']\n",
        "plt.plot(training_acc, label='training accuracy')\n",
        "plt.plot(testing_acc, label='testing accuracy')\n",
        "plt.xticks(loc, xlabels)\n",
        "plt.xlabel('Filter size')\n",
        "plt.ylabel('Accuracy')\n",
        "plt.title('Accuracy w.r.t. different filter sizes')\n",
        "plt.ylim=([0.5, 1])\n",
        "plt.legend(loc='upper right')\n",
        "plt.savefig(\"CNN filter size\", bbox_inches=\"tight\", dpi=300)"
      ],
      "metadata": {
        "colab": {
          "base_uri": "https://localhost:8080/",
          "height": 279
        },
        "id": "l7bqGJHhjBPn",
        "outputId": "e6bcd914-cbe8-4d58-e0cd-b33b9ff44e46"
      },
      "execution_count": null,
      "outputs": [
        {
          "output_type": "display_data",
          "data": {
            "text/plain": [
              "<Figure size 432x288 with 1 Axes>"
            ],
            "image/png": "[encoded data removed]"
          },
          "metadata": {
            "needs_background": "light"
          }
        }
      ]
    }
  ]
}