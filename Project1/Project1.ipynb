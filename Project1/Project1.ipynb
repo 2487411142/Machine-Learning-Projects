{
 "cells": [
  {
   "cell_type": "markdown",
   "id": "b0a3cae3",
   "metadata": {},
   "source": [
    "## Task1: Acquire, Preprocess and Analyze the data "
   ]
  },
  {
   "cell_type": "markdown",
   "id": "31d2ba7e",
   "metadata": {},
   "source": [
    "### Import Dataset"
   ]
  },
  {
   "cell_type": "code",
   "execution_count": 2,
   "id": "6d28a964",
   "metadata": {},
   "outputs": [],
   "source": [
    "import numpy as np\n",
    "import pandas as pd \n",
    "from scipy.io.arff import loadarff \n",
    "from scipy.io import arff\n",
    "%matplotlib inline                                  \n",
    "import matplotlib.pyplot as plt\n",
    "from IPython.core.debugger import set_trace     #for debugging \n",
    "hepatitis=pd.read_csv(r\"hepatitis.data\")\n",
    "raw_data = loadarff(r\"messidor_features.arff\")\n",
    "messidor=pd.DataFrame(raw_data[0])"
   ]
  },
  {
   "cell_type": "code",
   "execution_count": 3,
   "id": "1eeb4a88",
   "metadata": {
    "scrolled": true
   },
   "outputs": [],
   "source": [
    "#rename the columns\n",
    "\n",
    "hepatitis=hepatitis.rename(columns={'2':\"Class\",'30':'Age','2.1':'Sex','1':'Steroid','2.2':'Antivirals',\n",
    "                                    '2.3':'Fatique','2.4':'Malaise','2.5':\"Anorexia\",'1.1':'Liver Big',\n",
    "                                   '2.6':\"Liver Firm\",'2.7':\"Spleen Palpable\",'2.8':\"Spiders\",\"2.9\":\"Ascites\",\"2.10\":\"Varices\",\n",
    "                                   '1.00':\"Bilirubin\",\"85\":\"Alk Phosphate\",\"18\":\"Sgot\",\"4.0\":\"Albumin\",\n",
    "                                    \"?\":\"Protime\",\"1.2\":\"Histology\"})"
   ]
  },
  {
   "cell_type": "code",
   "execution_count": 4,
   "id": "9ed440a4",
   "metadata": {},
   "outputs": [],
   "source": [
    "# rename the columns\n",
    "messidor.set_axis([\"quality\", \"pre-screen\", \"MA0.5\", \"MA0.6\", \"MA0.7\", \"MA0.8\", \"MA0.9\",\n",
    "                            \"MA1\", \"exudates0.3\", \"exudates0.4\", \"exudates0.5\", \"exudates0.6\", \"exudates0.7\", \"exudates0.8\", \n",
    "                            \"exudates0.9\", \"exudates1\", \"euc_distance\", \"diameter\", \"AM\\FM\", \"sign\", ], axis = 1,inplace = True )"
   ]
  },
  {
   "cell_type": "markdown",
   "id": "354902a7",
   "metadata": {},
   "source": [
    "### Clean the Data"
   ]
  },
  {
   "cell_type": "code",
   "execution_count": 4,
   "id": "c8f51cb4",
   "metadata": {},
   "outputs": [],
   "source": [
    "# drop the missing values\n",
    "feature_list=hepatitis.columns.values.tolist()\n",
    "threshold=20\n",
    "features_drop=[]\n",
    "for i in feature_list:\n",
    "    if \"?\" in hepatitis[i].values.tolist():\n",
    "        if hepatitis[i].value_counts()[\"?\"]>threshold:\n",
    "             features_drop.append(i)       \n",
    "features_drop\n",
    "hepatitis=hepatitis.drop(columns=features_drop)\n",
    "hepatitis=hepatitis[~hepatitis.eq('?').any(1)]\n",
    "hepatitis=hepatitis.drop_duplicates()\n",
    "#hepatitis.shape"
   ]
  },
  {
   "cell_type": "code",
   "execution_count": 5,
   "id": "e64fedb9",
   "metadata": {},
   "outputs": [
    {
     "name": "stderr",
     "output_type": "stream",
     "text": [
      "C:\\Users\\liuru\\AppData\\Local\\Temp\\ipykernel_7180\\1775947884.py:6: FutureWarning: elementwise comparison failed; returning scalar instead, but in the future will perform elementwise comparison\n",
      "  if \"N/A\" in messidor[i].values:\n"
     ]
    },
    {
     "data": {
      "text/plain": [
       "1146"
      ]
     },
     "execution_count": 5,
     "metadata": {},
     "output_type": "execute_result"
    }
   ],
   "source": [
    "#drop the missing values\n",
    "feature_list=messidor.columns.values.tolist()\n",
    "threshold=150\n",
    "features_drop=[]\n",
    "for i in feature_list:\n",
    "    if \"N/A\" in messidor[i].values:\n",
    "        if messidor[i].value_counts()[\"N/A\"]>threshold:\n",
    "            features_drop.append(i)       \n",
    "features_drop\n",
    "messidor=messidor.drop(columns=features_drop)\n",
    "messidor=messidor[~messidor.eq('N/A').any(1)]\n",
    "messidor=messidor.drop_duplicates()\n",
    "len(messidor)"
   ]
  },
  {
   "cell_type": "markdown",
   "id": "1ea36955",
   "metadata": {},
   "source": [
    "### Basic Statistics of Dataset-Hepatitis"
   ]
  },
  {
   "cell_type": "code",
   "execution_count": 44,
   "id": "56b4f455",
   "metadata": {},
   "outputs": [],
   "source": [
    "%matplotlib inline\n",
    "import matplotlib.pyplot as plots\n",
    "plots.style.use('fivethirtyeight')\n",
    "from datascience import *"
   ]
  },
  {
   "cell_type": "code",
   "execution_count": 45,
   "id": "1e1c5db6",
   "metadata": {
    "scrolled": true
   },
   "outputs": [
    {
     "data": {
      "text/plain": [
       "2    104\n",
       "1     24\n",
       "Name: Class, dtype: int64"
      ]
     },
     "execution_count": 45,
     "metadata": {},
     "output_type": "execute_result"
    }
   ],
   "source": [
    "hepatitis[\"Class\"].value_counts()"
   ]
  },
  {
   "cell_type": "code",
   "execution_count": 46,
   "id": "f9382979",
   "metadata": {},
   "outputs": [
    {
     "data": {
      "text/plain": [
       "128"
      ]
     },
     "execution_count": 46,
     "metadata": {},
     "output_type": "execute_result"
    }
   ],
   "source": [
    "hepatitis.shape[0]"
   ]
  },
  {
   "cell_type": "code",
   "execution_count": 47,
   "id": "a08e969f",
   "metadata": {},
   "outputs": [
    {
     "data": {
      "text/html": [
       "<table border=\"1\" class=\"dataframe\">\n",
       "    <thead>\n",
       "        <tr>\n",
       "            <th>Seasons</th> <th>Mean</th> <th>Minimum</th> <th>Maximum</th>\n",
       "        </tr>\n",
       "    </thead>\n",
       "    <tbody>\n",
       "        <tr>\n",
       "            <td>Age    </td> <td>40.8906     </td> <td>7      </td> <td>78     </td>\n",
       "        </tr>\n",
       "        <tr>\n",
       "            <td>Sgot   </td> <td>3.30641e+286</td> <td>100    </td> <td>98     </td>\n",
       "        </tr>\n",
       "    </tbody>\n",
       "</table>"
      ],
      "text/plain": [
       "Seasons | Mean         | Minimum | Maximum\n",
       "Age     | 40.8906      | 7       | 78\n",
       "Sgot    | 3.30641e+286 | 100     | 98"
      ]
     },
     "execution_count": 47,
     "metadata": {},
     "output_type": "execute_result"
    }
   ],
   "source": [
    "#only sgot and Age are numerical features.\n",
    "statistical_fact_hepatitis=Table().with_columns(\"Seasons\",make_array(\"Age\",\"Sgot\"),\n",
    "                                     \"Mean\",make_array(hepatitis[\"Age\"].mean(),hepatitis[\"Sgot\"].mean()),\n",
    "                                     \"Minimum\",make_array(hepatitis[\"Age\"].min(),hepatitis[\"Sgot\"].min()),\n",
    "                                     \"Maximum\",make_array(hepatitis[\"Age\"].max(),hepatitis[\"Sgot\"].max()))\n",
    "statistical_fact_hepatitis"
   ]
  },
  {
   "cell_type": "code",
   "execution_count": 48,
   "id": "a8dd7ecb",
   "metadata": {},
   "outputs": [
    {
     "data": {
      "image/png": "[encoded data removed]",
      "text/plain": [
       "<Figure size 432x288 with 1 Axes>"
      ]
     },
     "metadata": {},
     "output_type": "display_data"
    }
   ],
   "source": [
    "plots.hist(hepatitis[\"Age\"]);\n",
    "plots.xlabel(\"Age\");"
   ]
  },
  {
   "cell_type": "code",
   "execution_count": 49,
   "id": "a5c368db",
   "metadata": {
    "scrolled": false
   },
   "outputs": [
    {
     "data": {
      "image/png": "[encoded data removed]",
      "text/plain": [
       "<Figure size 432x288 with 1 Axes>"
      ]
     },
     "metadata": {},
     "output_type": "display_data"
    }
   ],
   "source": [
    "plots.hist(hepatitis[\"Sgot\"])\n",
    "plots.xlabel(\"Sgot\");"
   ]
  },
  {
   "cell_type": "markdown",
   "id": "a2051314",
   "metadata": {},
   "source": [
    "### Basic Statistics of Dataset-Hepatitis"
   ]
  },
  {
   "cell_type": "code",
   "execution_count": 50,
   "id": "4970886f",
   "metadata": {
    "scrolled": true
   },
   "outputs": [
    {
     "data": {
      "text/plain": [
       "1.0    1142\n",
       "0.0       4\n",
       "Name: quality, dtype: int64"
      ]
     },
     "execution_count": 50,
     "metadata": {},
     "output_type": "execute_result"
    }
   ],
   "source": [
    "messidor[\"quality\"].value_counts()"
   ]
  },
  {
   "cell_type": "markdown",
   "id": "23a18517",
   "metadata": {},
   "source": [
    "## Task2: Implementation of KNN and DT"
   ]
  },
  {
   "cell_type": "markdown",
   "id": "66fa18b5",
   "metadata": {},
   "source": [
    "### K-Nearest Neighbors"
   ]
  },
  {
   "cell_type": "code",
   "execution_count": 6,
   "id": "379767eb",
   "metadata": {},
   "outputs": [],
   "source": [
    "euclidean = lambda x1, x2: np.sqrt(np.sum((x1 - x2)**2, axis=-1))\n",
    "manhattan = lambda x1, x2: np.sum(np.abs(x1 - x2), axis=-1) \n",
    "\n",
    "\n",
    "class KNN:\n",
    "    def __init__(self, K=1,dist_fn= euclidean):\n",
    "        self.dist_fn = dist_fn\n",
    "        self.K = K\n",
    "        return\n",
    "    \n",
    "    def fit(self, x, y):\n",
    "        ''' Store the training data using this method as it is a lazy learner'''\n",
    "        self.x = x\n",
    "        self.y = y\n",
    "        self.C = np.max(y)+1\n",
    "        #self.C = np.max(y)\n",
    "        return self\n",
    "    \n",
    "    def predict(self, x_test):\n",
    "        ''' Makes a prediction using the stored training data and the test data given as argument'''\n",
    "        num_test = x_test.shape[0]\n",
    "        distances = self.dist_fn(self.x[None,:,:], x_test[:,None,:])\n",
    "        knns = np.zeros((num_test, self.K), dtype=int)\n",
    "        y_prob = np.zeros((num_test, self.C))\n",
    "        for i in range(num_test):\n",
    "            knns[i,:] = np.argsort(distances[i])[:self.K]\n",
    "            y_prob[i,:] = np.bincount(self.y[knns[i,:]], minlength=self.C)\n",
    "            #y_prob[i,:] = np.bincount(self.y[knns[i,:]], minlength=self.C+1)[1:] #counts the number of instances of each class in the K-closest training samples\n",
    "        y_prob /= self.K\n",
    "        return y_prob,knns\n",
    "    \n",
    "    def evaluate_acc(self, y_pred, y_test):\n",
    "        accuracy = np.sum(y_pred == y_test)/y_test.shape[0]\n",
    "        return accuracy"
   ]
  },
  {
   "cell_type": "markdown",
   "id": "58092c4a",
   "metadata": {},
   "source": [
    "## Decision Tree"
   ]
  },
  {
   "cell_type": "code",
   "execution_count": 7,
   "id": "bd8124d1",
   "metadata": {},
   "outputs": [],
   "source": [
    "class Node:\n",
    "    def __init__(self, data_indices, parent):\n",
    "        self.data_indices = data_indices                    #stores the data indices which are in the region defined by this node\n",
    "        self.left = None                                    #stores the left child of the node \n",
    "        self.right = None                                   #stores the right child of the node\n",
    "        self.split_feature = None                           #the feature for split at this node\n",
    "        self.split_value = None                             #the value of the feature for split at this node\n",
    "        if parent:\n",
    "            self.depth = parent.depth + 1                   #obtain the dept of the node by adding one to dept of the parent \n",
    "            self.num_classes = parent.num_classes           #copies the num classes from the parent \n",
    "            self.data = parent.data                         #copies the data from the parent\n",
    "            self.labels = parent.labels                     #copies the labels from the parent\n",
    "            class_prob = np.bincount(self.labels[data_indices], minlength=self.num_classes) #this is counting frequency of different labels in the region defined by this node\n",
    "            self.class_prob = class_prob / np.sum(class_prob)  #stores the class probability for the node\n",
    "            #note that we'll use the class probabilites of the leaf nodes for making predictions after the tree is built"
   ]
  },
  {
   "cell_type": "code",
   "execution_count": 8,
   "id": "a207f3e3",
   "metadata": {},
   "outputs": [],
   "source": [
    "def greedy_test(node, cost_fn):\n",
    "    #initialize the best parameter values\n",
    "    best_cost = np.inf\n",
    "    best_feature, best_value = None, None\n",
    "    num_instances, num_features = node.data.shape\n",
    "    #sort the features to get the test value candidates by taking the average of consecutive sorted feature values \n",
    "    data_sorted = np.sort(node.data[node.data_indices],axis=0)\n",
    "    test_candidates = (data_sorted[1:] + data_sorted[:-1]) / 2.\n",
    "    for f in range(num_features):\n",
    "        #stores the data corresponding to the f-th feature\n",
    "        data_f = node.data[node.data_indices, f]\n",
    "        for test in test_candidates[:,f]:\n",
    "            #Split the indices using the test value of f-th feature\n",
    "            left_indices = node.data_indices[data_f <= test]\n",
    "            right_indices = node.data_indices[data_f > test]\n",
    "            #we can't have a split where a child has zero element\n",
    "            #if this is true over all the test features and their test values  then the function returns the best cost as infinity\n",
    "            if len(left_indices) == 0 or len(right_indices) == 0:                \n",
    "                continue\n",
    "            #compute the left and right cost based on the current split                                                         \n",
    "            left_cost = cost_fn(node.labels[left_indices])\n",
    "            right_cost = cost_fn(node.labels[right_indices])\n",
    "            num_left, num_right = left_indices.shape[0], right_indices.shape[0]\n",
    "            #get the combined cost using the weighted sum of left and right cost\n",
    "            cost = (num_left * left_cost + num_right * right_cost)/num_instances\n",
    "            #update only when a lower cost is encountered\n",
    "            if cost < best_cost:\n",
    "                best_cost = cost\n",
    "                best_feature = f\n",
    "                best_value = test\n",
    "    return best_cost, best_feature, best_value"
   ]
  },
  {
   "cell_type": "code",
   "execution_count": 9,
   "id": "0be7226a",
   "metadata": {},
   "outputs": [],
   "source": [
    "#computes misclassification cost by subtracting the maximum probability of any class\n",
    "def cost_misclassification(labels):\n",
    "    counts = np.bincount(labels) \n",
    "    class_probs = counts / np.sum(counts)\n",
    "    #you could compress both the steps above by doing class_probs = np.bincount(labels) / len(labels)\n",
    "    return 1 - np.max(class_probs)\n",
    "\n",
    "#computes entropy of the labels by computing the class probabilities\n",
    "def cost_entropy(labels):\n",
    "    class_probs = np.bincount(labels) / len(labels)\n",
    "    class_probs = class_probs[class_probs > 0]              #this steps is remove 0 probabilities for removing numerical issues while computing log\n",
    "    return -np.sum(class_probs * np.log2(class_probs))       #expression for entropy -\\sigma p(x)log[p(x)]\n",
    "\n",
    "#computes the gini index cost\n",
    "def cost_gini_index(labels):\n",
    "    class_probs = np.bincount(labels) / len(labels)\n",
    "    return 1 - np.sum(np.square(class_probs))               #expression for gini index 1-\\sigma p(x)^2"
   ]
  },
  {
   "cell_type": "code",
   "execution_count": 10,
   "id": "73d37ab7",
   "metadata": {},
   "outputs": [],
   "source": [
    "class DecisionTree:\n",
    "    def __init__(self, num_classes=None, max_depth=3, cost_fn=cost_gini_index, min_leaf_instances=1):\n",
    "        self.max_depth = max_depth      #maximum dept for termination \n",
    "        self.root = None                #stores the root of the decision tree \n",
    "        self.cost_fn = cost_fn          #stores the cost function of the decision tree \n",
    "        self.num_classes = num_classes  #stores the total number of classes\n",
    "        self.min_leaf_instances = min_leaf_instances  #minimum number of instances in a leaf for termination\n",
    "        \n",
    "    def fit(self, data, labels):\n",
    "        pass                            #pass in python 3 means nothing happens and the method here is empty\n",
    "    \n",
    "    def predict(self, data_test):\n",
    "        pass"
   ]
  },
  {
   "cell_type": "code",
   "execution_count": 11,
   "id": "72cc1aba",
   "metadata": {},
   "outputs": [],
   "source": [
    "def fit(self, data, labels):\n",
    "    self.data = data\n",
    "    self.labels = labels\n",
    "    if self.num_classes is None:\n",
    "        self.num_classes = np.max(labels) + 1\n",
    "    #below are initialization of the root of the decision tree\n",
    "    self.root = Node(np.arange(data.shape[0]), None)\n",
    "    self.root.data = data\n",
    "    self.root.labels = labels\n",
    "    self.root.num_classes = self.num_classes\n",
    "    self.root.depth = 0\n",
    "    #to recursively build the rest of the tree\n",
    "    self._fit_tree(self.root)\n",
    "    return self\n",
    "\n",
    "def _fit_tree(self, node):\n",
    "    #This gives the condition for termination of the recursion resulting in a leaf node\n",
    "    if node.depth == self.max_depth or len(node.data_indices) <= self.min_leaf_instances:\n",
    "        return\n",
    "    #greedily select the best test by minimizing the cost\n",
    "    cost, split_feature, split_value = greedy_test(node, self.cost_fn)\n",
    "    #if the cost returned is infinity it means that it is not possible to split the node and hence terminate\n",
    "    if np.isinf(cost):\n",
    "        return\n",
    "    #print(f'best feature: {split_feature}, value {split_value}, cost {cost}')\n",
    "    #to get a boolean array suggesting which data indices corresponding to this node are in the left of the split\n",
    "    test = node.data[node.data_indices,split_feature] <= split_value\n",
    "    #store the split feature and value of the node\n",
    "    node.split_feature = split_feature\n",
    "    node.split_value = split_value\n",
    "    #define new nodes which are going to be the left and right child of the present node\n",
    "    left = Node(node.data_indices[test], node)\n",
    "    right = Node(node.data_indices[np.logical_not(test)], node)\n",
    "    #recursive call to the _fit_tree()\n",
    "    self._fit_tree(left)\n",
    "    self._fit_tree(right)\n",
    "    #assign the left and right child to present child\n",
    "    node.left = left\n",
    "    node.right = right\n",
    "\n",
    "DecisionTree.fit = fit\n",
    "DecisionTree._fit_tree = _fit_tree"
   ]
  },
  {
   "cell_type": "code",
   "execution_count": 12,
   "id": "9a118afb",
   "metadata": {},
   "outputs": [],
   "source": [
    "def predict(self, data_test):\n",
    "    class_probs = np.zeros((data_test.shape[0], self.num_classes))\n",
    "    for n, x in enumerate(data_test):\n",
    "        node = self.root\n",
    "        #loop along the dept of the tree looking region where the present data sample fall in based on the split feature and value\n",
    "        while node.left:\n",
    "            if x[node.split_feature] <= node.split_value:\n",
    "                node = node.left\n",
    "            else:\n",
    "                node = node.right\n",
    "        #the loop terminates when you reach a leaf of the tree and the class probability of that node is taken for prediction\n",
    "        class_probs[n,:] = node.class_prob\n",
    "    return class_probs\n",
    "\n",
    "DecisionTree.predict = predict"
   ]
  },
  {
   "cell_type": "code",
   "execution_count": 13,
   "id": "69622245",
   "metadata": {},
   "outputs": [],
   "source": [
    "def evaluate_acc(self, y_pred, y_test):\n",
    "    accuracy = np.sum(y_pred == y_test)/y_test.shape[0]\n",
    "    return accuracy\n",
    "\n",
    "DecisionTree.evaluate_acc = evaluate_acc"
   ]
  },
  {
   "cell_type": "markdown",
   "id": "e9b61869",
   "metadata": {},
   "source": [
    "## Task3: Running Experiments"
   ]
  },
  {
   "cell_type": "markdown",
   "id": "df8a4f60",
   "metadata": {},
   "source": [
    "### 3.1 Accuracy of KNN and DT on Two Dataset"
   ]
  },
  {
   "cell_type": "markdown",
   "id": "c78cd24e",
   "metadata": {},
   "source": [
    "### Hepatitis-KNN"
   ]
  },
  {
   "cell_type": "code",
   "execution_count": 59,
   "id": "285a156b",
   "metadata": {},
   "outputs": [],
   "source": [
    "#Split the dataset\n",
    "x,y=hepatitis.to_numpy()[:,1:],hepatitis[\"Class\"].to_numpy()\n",
    "x=x.astype(float)\n",
    "y=y.astype(int)-1\n",
    "(N,D), C = x.shape, np.max(y)+1\n",
    "inds = np.random.permutation(N)\n",
    "\n",
    "x_train, y_train = x[inds[:100]], y[inds[:100]] #inds:random permutation\n",
    "x_test, y_test = x[inds[100:]], y[inds[100:]]\n",
    "\n",
    "#Further split the training data into train_tr and train_va\n",
    "x_train_tr, y_train_tr = x_train[:50], y_train[:50]\n",
    "x_train_va, y_train_va = x_train[50:], y_train[50:]"
   ]
  },
  {
   "cell_type": "code",
   "execution_count": 60,
   "id": "d3510e26",
   "metadata": {
    "scrolled": true
   },
   "outputs": [
    {
     "name": "stdout",
     "output_type": "stream",
     "text": [
      "best K = 7, test accuracy = 0.8928571428571429\n"
     ]
    },
    {
     "data": {
      "image/png": "[encoded data removed]",
      "text/plain": [
       "<Figure size 432x288 with 1 Axes>"
      ]
     },
     "metadata": {},
     "output_type": "display_data"
    }
   ],
   "source": [
    "## Choosing the best hyperparameter\n",
    "model_choices=[] # save k values\n",
    "valid_acc = [] #save validation accuracy\n",
    "n_valid = y_train_va.shape[0]\n",
    "\n",
    "for k in range(1,15):\n",
    "    knn = KNN(K=k) # create a KNN object (OOP)\n",
    "    \n",
    "    y_train_va_prob,_ = knn.fit(x_train_tr, y_train_tr).predict(x_train_va) # bug fixed\n",
    "    y_train_va_pred = np.argmax(y_train_va_prob,axis=-1)\n",
    "   # y_train_va_pred = np.argmax(y_train_va_prob,axis=-1)+1\n",
    "    accuracy = np.sum(y_train_va_pred == y_train_va, dtype = float)/n_valid\n",
    "    model_choices.append(k)\n",
    "    valid_acc.append(accuracy)\n",
    "\n",
    "# use the best K to predict test data\n",
    "best_valid_K = model_choices[valid_acc.index(max(valid_acc))] #use index to see what's best K value\n",
    "knn = KNN(K=best_valid_K)\n",
    "y_test_prob_knn,_ = knn.fit(x_train, y_train).predict(x_test)\n",
    "y_test_pred_knn = np.argmax(y_test_prob_knn, axis=-1)\n",
    "#y_test_pred = np.argmax(y_test_prob, axis=-1)+1\n",
    "test_accuracy_hep_knn = np.sum(y_test_pred_knn == y_test)/y_test.shape[0]\n",
    "print(f'best K = {best_valid_K}, test accuracy = {test_accuracy_hep_knn}')\n",
    "\n",
    "plt.plot(model_choices, valid_acc, marker='o', color='blue', label='validation')\n",
    "plt.plot(best_valid_K, test_accuracy_hep_knn, marker='*', color='red', label='testing')\n",
    "plt.xlabel(\"K\")\n",
    "plt.ylabel(\"Accuracy\")\n",
    "plt.legend(loc='best')\n",
    "plt.savefig('heptisis-knn.png',dpi=300,bbox_inches='tight')"
   ]
  },
  {
   "cell_type": "markdown",
   "id": "cc16c048",
   "metadata": {},
   "source": [
    "### Hepatitis-Decision Tree"
   ]
  },
  {
   "cell_type": "code",
   "execution_count": 61,
   "id": "17991680",
   "metadata": {},
   "outputs": [
    {
     "name": "stdout",
     "output_type": "stream",
     "text": [
      "best depth = 2, test accuracy = 0.8928571428571429\n"
     ]
    },
    {
     "data": {
      "image/png": "[encoded data removed]",
      "text/plain": [
       "<Figure size 432x288 with 1 Axes>"
      ]
     },
     "metadata": {},
     "output_type": "display_data"
    }
   ],
   "source": [
    "model_choices=[]\n",
    "train_acc = []\n",
    "valid_acc = []\n",
    "\n",
    "n_train = y_train_tr.shape[0]\n",
    "n_valid = y_train_va.shape[0]\n",
    "\n",
    "for k in range(1, 15):\n",
    "    dt = DecisionTree(max_depth=k) # create a KNN object (OOP)\n",
    "\n",
    "    y_train_tr_prob = dt.fit(x_train_tr, y_train_tr).predict(x_train_tr)\n",
    "    y_train_tr_pred = np.argmax(y_train_tr_prob, axis=-1)\n",
    "    acc_tr = np.sum(y_train_tr_pred == y_train_tr)/n_train\n",
    "\n",
    "    y_train_va_prob = dt.fit(x_train_tr, y_train_tr).predict(x_train_va)\n",
    "    y_train_va_pred = np.argmax(y_train_va_prob, axis=-1)\n",
    "    acc_va = np.sum(y_train_va_pred == y_train_va)/n_valid\n",
    "\n",
    "    model_choices.append(k)\n",
    "    train_acc.append(acc_tr)\n",
    "    valid_acc.append(acc_va)\n",
    "\n",
    "# use the best K to predict test data\n",
    "best_depth = model_choices[valid_acc.index(max(valid_acc))]\n",
    "dt = DecisionTree(max_depth=best_depth)\n",
    "y_test_prob_dt = dt.fit(x_train, y_train).predict(x_test)\n",
    "y_test_pred_dt = np.argmax(y_test_prob_dt, axis=-1)\n",
    "test_accuracy_hep_dt = np.sum(y_test_pred_dt == y_test)/y_test.shape[0]\n",
    "print(f'best depth = {best_depth}, test accuracy = {test_accuracy_hep_dt}')\n",
    "\n",
    "plt.plot(model_choices, train_acc, marker='d', color='black', label='training')\n",
    "plt.plot(model_choices, valid_acc, marker='o', color='blue', label='validation')\n",
    "plt.plot(best_depth, test_accuracy_hep_dt, marker='*', color='red', label='testing')\n",
    "plt.xlabel(\"Tree depth\")\n",
    "plt.ylabel(\"Accuracy\")\n",
    "plt.legend(loc='best')\n",
    "plt.savefig('heptisis-dt',dpi=300,bbox_inches='tight')"
   ]
  },
  {
   "cell_type": "markdown",
   "id": "9b49575d",
   "metadata": {},
   "source": [
    "### Messidor-KNN"
   ]
  },
  {
   "cell_type": "code",
   "execution_count": 62,
   "id": "b7feb246",
   "metadata": {},
   "outputs": [],
   "source": [
    "# Transform the sign column (independent variable) into numerical form for prediction \n",
    "def transform(s):\n",
    "    return int.from_bytes(s, \"big\") - 48\n",
    "\n",
    "a=messidor.to_numpy()[:,:-1]\n",
    "b=messidor[\"sign\"].apply(transform).to_numpy()\n",
    "a=a.astype(float)\n",
    "b=b.astype(int)\n",
    "\n",
    "# temp = messidor['Class'].astype(str)\n",
    "# lookupTable, indexed_dataSet = np.unique(temp, return_inverse=True)\n",
    "# indexed_dataSet"
   ]
  },
  {
   "cell_type": "code",
   "execution_count": 63,
   "id": "c9a85051",
   "metadata": {},
   "outputs": [],
   "source": [
    "#Split the dataset into train and test\n",
    "(N,D), C = a.shape, np.max(b)\n",
    "(num_instances, num_features), num_classes = a.shape, np.max(b)+1\n",
    "inds = np.random.permutation(N)\n",
    "#N*(2/3)=764\n",
    "a_train, b_train = a[inds[:764]], b[inds[:764]] #inds:random permutation\n",
    "a_test, b_test = a[inds[764:]], b[inds[764:]]\n",
    "#Further split the train dataset for choosing hyperparameter\n",
    "a_train_tr, b_train_tr = a_train[:382], b_train[:382]\n",
    "a_train_va, b_train_va = a_train[382:], b_train[382:]\n",
    "#b_train_va.shape"
   ]
  },
  {
   "cell_type": "code",
   "execution_count": 64,
   "id": "18177ce8",
   "metadata": {},
   "outputs": [
    {
     "name": "stdout",
     "output_type": "stream",
     "text": [
      "best K = 14, test accuracy = 0.6544502617801047\n"
     ]
    },
    {
     "data": {
      "image/png": "[encoded data removed]",
      "text/plain": [
       "<Figure size 432x288 with 1 Axes>"
      ]
     },
     "metadata": {},
     "output_type": "display_data"
    }
   ],
   "source": [
    "## Choosing the best hyperparameter\n",
    "model_choices=[] # save k values\n",
    "valid_acc = [] #save validation accuracy\n",
    "n_valid = b_train_va.shape[0]\n",
    "\n",
    "for k in range(1,15):\n",
    "    knn = KNN(K=k) # create a KNN object (OOP)\n",
    "    b_train_va_prob,_ = knn.fit(a_train_tr, b_train_tr).predict(a_train_va) # bug fixed\n",
    "    b_train_va_pred = np.argmax(b_train_va_prob,axis=-1)\n",
    "   # b_train_va_pred = np.argmax(b_train_va_prob,axis=-1)+1\n",
    "    accuracy = np.sum(b_train_va_pred == b_train_va, dtype = float)/n_valid\n",
    "    model_choices.append(k)\n",
    "    valid_acc.append(accuracy)\n",
    "\n",
    "# use the best K to predict test data\n",
    "best_valid_K = model_choices[valid_acc.index(max(valid_acc))] #use index to see what's best K value\n",
    "knn = KNN(K=best_valid_K)\n",
    "b_test_prob,_ = knn.fit(a_train, b_train).predict(a_test)\n",
    "b_test_pred = np.argmax(b_test_prob, axis=-1)\n",
    "#b_test_pred = np.argmax(b_test_prob, axis=-1)+1\n",
    "test_accuracy_mes_knn = np.sum(b_test_pred == b_test)/b_test.shape[0]\n",
    "print(f'best K = {best_valid_K}, test accuracy = {test_accuracy_mes_knn}')\n",
    "\n",
    "plt.plot(model_choices, valid_acc, marker='o', color='blue', label='validation')\n",
    "plt.plot(best_valid_K, test_accuracy_mes_knn, marker='*', color='red', label='testing')\n",
    "plt.xlabel(\"K\")\n",
    "plt.ylabel(\"Accuracy\")\n",
    "plt.legend(loc='best')\n",
    "plt.savefig('messidor-knn.png',dpi=300,bbox_inches='tight')"
   ]
  },
  {
   "cell_type": "markdown",
   "id": "8daace4f",
   "metadata": {},
   "source": [
    "### Messidor-DT"
   ]
  },
  {
   "cell_type": "code",
   "execution_count": 65,
   "id": "cbf2f0c5",
   "metadata": {},
   "outputs": [
    {
     "name": "stdout",
     "output_type": "stream",
     "text": [
      "best depth = 3, test accuracy = 0.599476439790576\n"
     ]
    },
    {
     "data": {
      "image/png": "[encoded data removed]",
      "text/plain": [
       "<Figure size 432x288 with 1 Axes>"
      ]
     },
     "metadata": {},
     "output_type": "display_data"
    }
   ],
   "source": [
    "model_choices=[]\n",
    "train_acc = []\n",
    "valid_acc = []\n",
    "\n",
    "n_train = b_train_tr.shape[0]\n",
    "n_valid = b_train_va.shape[0]\n",
    "\n",
    "for k in range(1, 15):\n",
    "    dt = DecisionTree(max_depth=k) # create a KNN object (OOP)\n",
    "\n",
    "    b_train_tr_prob = dt.fit(a_train_tr, b_train_tr).predict(a_train_tr)\n",
    "    b_train_tr_pred = np.argmax(b_train_tr_prob, axis=-1)\n",
    "    acc_tr = np.sum(b_train_tr_pred == b_train_tr)/n_train\n",
    "\n",
    "    b_train_va_prob = dt.fit(a_train_tr, b_train_tr).predict(a_train_va)\n",
    "    b_train_va_pred = np.argmax(b_train_va_prob, axis=-1)\n",
    "    acc_va = np.sum(b_train_va_pred == b_train_va)/n_valid\n",
    "\n",
    "    model_choices.append(k)\n",
    "    train_acc.append(acc_tr)\n",
    "    valid_acc.append(acc_va)\n",
    "\n",
    "# use the best K to predict test data\n",
    "best_depth = model_choices[valid_acc.index(max(valid_acc))]\n",
    "dt = DecisionTree(max_depth=best_depth)\n",
    "b_test_prob = dt.fit(a_train, b_train).predict(a_test)\n",
    "b_test_pred = np.argmax(b_test_prob, axis=-1)\n",
    "test_accuracy_mes_dt = np.sum(b_test_pred == b_test)/b_test.shape[0]\n",
    "print(f'best depth = {best_depth}, test accuracy = {test_accuracy_mes_dt}')\n",
    "\n",
    "plt.plot(model_choices, train_acc, marker='d', color='black', label='training')\n",
    "plt.plot(model_choices, valid_acc, marker='o', color='blue', label='validation')\n",
    "plt.plot(best_depth, test_accuracy_mes_dt, marker='*', color='red', label='testing')\n",
    "plt.xlabel(\"Tree depth\")\n",
    "plt.ylabel(\"Accuracy\")\n",
    "plt.legend(loc='best')\n",
    "plt.savefig('messidor-DT.png',dpi=300,bbox_inches='tight')"
   ]
  },
  {
   "cell_type": "markdown",
   "id": "c31f066b",
   "metadata": {},
   "source": [
    "#### compare the result of KNN and DT"
   ]
  },
  {
   "cell_type": "markdown",
   "id": "6c496655",
   "metadata": {},
   "source": [
    "##### Heptisis"
   ]
  },
  {
   "cell_type": "code",
   "execution_count": 19,
   "id": "2121f850",
   "metadata": {},
   "outputs": [],
   "source": [
    "# run knn 100 times\n",
    "accuracy_knn = []\n",
    "for i in range(100):\n",
    "    #Split the dataset\n",
    "    x,y=hepatitis.to_numpy()[:,1:],hepatitis[\"Class\"].to_numpy()\n",
    "    x=x.astype(float)\n",
    "    y=y.astype(int)-1\n",
    "    (N,D), C = x.shape, np.max(y)\n",
    "    inds = np.random.permutation(N)\n",
    "    x_train, y_train = x[inds[:100]], y[inds[:100]] #inds:random permutation\n",
    "    x_test, y_test = x[inds[100:]], y[inds[100:]]\n",
    "\n",
    "    #Further split the training data into train_tr and train_va\n",
    "    x_train_tr, y_train_tr = x_train[:50], y_train[:50]\n",
    "    x_train_va, y_train_va = x_train[50:], y_train[50:]\n",
    "    \n",
    "    ## Choosing the best hyperparameter\n",
    "    model_choices=[] # save k values\n",
    "    valid_acc = [] #save validation accuracy\n",
    "    n_valid = y_train_va.shape[0]\n",
    "\n",
    "    for k in range(1,15):\n",
    "        knn = KNN(K=k) # create a KNN object (OOP)\n",
    "        y_train_va_prob,_ = knn.fit(x_train_tr, y_train_tr).predict(x_train_va) # bug fixed\n",
    "        y_train_va_pred = np.argmax(y_train_va_prob,axis=-1)\n",
    "       # y_train_va_pred = np.argmax(y_train_va_prob,axis=-1)+1\n",
    "        accuracy = np.sum(y_train_va_pred == y_train_va, dtype = float)/n_valid\n",
    "        model_choices.append(k)\n",
    "        valid_acc.append(accuracy)\n",
    "\n",
    "    # use the best K to predict test data\n",
    "    best_valid_K = model_choices[valid_acc.index(max(valid_acc))] #use index to see what's best K value\n",
    "    knn = KNN(K=best_valid_K)\n",
    "    y_test_prob_knn,_ = knn.fit(x_train, y_train).predict(x_test)\n",
    "    y_test_pred_knn = np.argmax(y_test_prob_knn, axis=-1)\n",
    "    #y_test_pred = np.argmax(y_test_prob, axis=-1)+1\n",
    "    test_accuracy_hep_knn = np.sum(y_test_pred_knn == y_test)/y_test.shape[0]\n",
    "    accuracy_knn.append(test_accuracy_hep_knn)"
   ]
  },
  {
   "cell_type": "markdown",
   "id": "ef8c4503",
   "metadata": {},
   "source": [
    "##### The following code may take 5 mimutes or more "
   ]
  },
  {
   "cell_type": "code",
   "execution_count": 20,
   "id": "61457c2c",
   "metadata": {},
   "outputs": [],
   "source": [
    "# run dt 100 times\n",
    "accuracy_dt = []\n",
    "for i in range(100):\n",
    "    #Split the dataset\n",
    "    x,y=hepatitis.to_numpy()[:,1:],hepatitis[\"Class\"].to_numpy()\n",
    "    x=x.astype(float)\n",
    "    y=y.astype(int)-1\n",
    "    (N,D), C = x.shape, np.max(y)\n",
    "    inds = np.random.permutation(N)\n",
    "    x_train, y_train = x[inds[:100]], y[inds[:100]] #inds:random permutation\n",
    "    x_test, y_test = x[inds[100:]], y[inds[100:]]\n",
    "\n",
    "    #Further split the training data into train_tr and train_va\n",
    "    x_train_tr, y_train_tr = x_train[:50], y_train[:50]\n",
    "    x_train_va, y_train_va = x_train[50:], y_train[50:]\n",
    "    model_choices=[]\n",
    "    train_acc = []\n",
    "    valid_acc = []\n",
    "\n",
    "    n_train = y_train_tr.shape[0]\n",
    "    n_valid = y_train_va.shape[0]\n",
    "\n",
    "    for k in range(1, 15):\n",
    "        dt = DecisionTree(max_depth=k) # create a KNN object (OOP)\n",
    "\n",
    "        y_train_tr_prob = dt.fit(x_train_tr, y_train_tr).predict(x_train_tr)\n",
    "        y_train_tr_pred = np.argmax(y_train_tr_prob, axis=-1)\n",
    "        acc_tr = np.sum(y_train_tr_pred == y_train_tr)/n_train\n",
    "\n",
    "        y_train_va_prob = dt.fit(x_train_tr, y_train_tr).predict(x_train_va)\n",
    "        y_train_va_pred = np.argmax(y_train_va_prob, axis=-1)\n",
    "        acc_va = np.sum(y_train_va_pred == y_train_va)/n_valid\n",
    "\n",
    "        model_choices.append(k)\n",
    "        train_acc.append(acc_tr)\n",
    "        valid_acc.append(acc_va)\n",
    "\n",
    "    # use the best K to predict test data\n",
    "    best_depth = model_choices[valid_acc.index(max(valid_acc))]\n",
    "    dt = DecisionTree(max_depth=best_depth)\n",
    "    y_test_prob_dt = dt.fit(x_train, y_train).predict(x_test)\n",
    "    y_test_pred_dt = np.argmax(y_test_prob_dt, axis=-1)\n",
    "    test_accuracy_hep_dt = np.sum(y_test_pred_dt == y_test)/y_test.shape[0]\n",
    "    accuracy_dt.append(test_accuracy_hep_dt)"
   ]
  },
  {
   "cell_type": "code",
   "execution_count": 21,
   "id": "ea32a1e6",
   "metadata": {},
   "outputs": [
    {
     "data": {
      "image/png": "[encoded data removed]",
      "text/plain": [
       "<Figure size 720x504 with 1 Axes>"
      ]
     },
     "metadata": {
      "needs_background": "light"
     },
     "output_type": "display_data"
    }
   ],
   "source": [
    "# compare knn and dt on data set heptisis by using box plot\n",
    "\n",
    "fig = plt.figure(figsize =(10, 7))\n",
    "ax = fig.add_subplot(111)\n",
    "bp = ax.boxplot([accuracy_knn, accuracy_dt], patch_artist = True,\n",
    "                notch ='True', vert = 1, showmeans = True)\n",
    "\n",
    "ax.set_xticklabels(['KNN', 'DT'])\n",
    "plt.title(\"KNN vs DT on hepatitis\")\n",
    "plt.ylabel(\"Accuracy\")\n",
    "plt.savefig('KNN vs DT on hepatitis.png',dpi='figure',bbox_inches='tight')"
   ]
  },
  {
   "cell_type": "markdown",
   "id": "e96b99e8",
   "metadata": {},
   "source": [
    "#### DT has higher mean value than KNN."
   ]
  },
  {
   "cell_type": "markdown",
   "id": "f32aecc8",
   "metadata": {},
   "source": [
    "##### messidor"
   ]
  },
  {
   "cell_type": "code",
   "execution_count": 14,
   "id": "78ba0e25",
   "metadata": {},
   "outputs": [],
   "source": [
    "def transform(s):\n",
    "        return int.from_bytes(s, \"big\") - 48\n",
    "    \n",
    "a=messidor.to_numpy()[:,:-1]\n",
    "b=messidor[\"sign\"].apply(transform).to_numpy()\n",
    "a=a.astype(float)\n",
    "b=b.astype(int)"
   ]
  },
  {
   "cell_type": "code",
   "execution_count": 15,
   "id": "36f46e2c",
   "metadata": {},
   "outputs": [],
   "source": [
    "# run knn 100 times\n",
    "accuracy_knn = []\n",
    "for i in range(100):\n",
    "    #Split the dataset into train and test\n",
    "    (N,D), C = a.shape, np.max(b)\n",
    "    (num_instances, num_features), num_classes = a.shape, np.max(b)+1\n",
    "    inds = np.random.permutation(N)\n",
    "    #N*(2/3)=764\n",
    "    a_train, b_train = a[inds[:764]], b[inds[:764]] #inds:random permutation\n",
    "    a_test, b_test = a[inds[764:]], b[inds[764:]]\n",
    "    #Further split the train dataset for choosing hyperparameter\n",
    "    a_train_tr, b_train_tr = a_train[:382], b_train[:382]\n",
    "    a_train_va, b_train_va = a_train[382:], b_train[382:]\n",
    "    #b_train_va.shape\n",
    "    \n",
    "    ## Choosing the best hyperparameter\n",
    "    model_choices=[] # save k values\n",
    "    valid_acc = [] #save validation accuracy\n",
    "    n_valid = b_train_va.shape[0]\n",
    "\n",
    "    for k in range(1,15):\n",
    "        knn = KNN(K=k) # create a KNN object (OOP)\n",
    "        b_train_va_prob,_ = knn.fit(a_train_tr, b_train_tr).predict(a_train_va) # bug fixed\n",
    "        b_train_va_pred = np.argmax(b_train_va_prob,axis=-1)\n",
    "       # b_train_va_pred = np.argmax(b_train_va_prob,axis=-1)+1\n",
    "        accuracy = np.sum(b_train_va_pred == b_train_va, dtype = float)/n_valid\n",
    "        model_choices.append(k)\n",
    "        valid_acc.append(accuracy)\n",
    "\n",
    "    # use the best K to predict test data\n",
    "    best_valid_K = model_choices[valid_acc.index(max(valid_acc))] #use index to see what's best K value\n",
    "    knn = KNN(K=best_valid_K)\n",
    "    b_test_prob,_ = knn.fit(a_train, b_train).predict(a_test)\n",
    "    b_test_pred = np.argmax(b_test_prob, axis=-1)\n",
    "    #b_test_pred = np.argmax(b_test_prob, axis=-1)+1\n",
    "    test_accuracy_mes_knn = np.sum(b_test_pred == b_test)/b_test.shape[0]\n",
    "    accuracy_knn.append(test_accuracy_mes_knn)"
   ]
  },
  {
   "cell_type": "markdown",
   "id": "aa66259a",
   "metadata": {},
   "source": [
    "##### The following code may take 1 hour or more! You can change the range to reduce the time."
   ]
  },
  {
   "cell_type": "code",
   "execution_count": 16,
   "id": "8111010a",
   "metadata": {},
   "outputs": [],
   "source": [
    "# run dt 10 times\n",
    "accuracy_dt = []\n",
    "for i in range(10): # change the number in range() to reduce time consumption\n",
    "    #Split the dataset into train and test\n",
    "    (N,D), C = a.shape, np.max(b)\n",
    "    (num_instances, num_features), num_classes = a.shape, np.max(b)+1\n",
    "    inds = np.random.permutation(N)\n",
    "    #N*(2/3)=764\n",
    "    a_train, b_train = a[inds[:764]], b[inds[:764]] #inds:random permutation\n",
    "    a_test, b_test = a[inds[764:]], b[inds[764:]]\n",
    "    #Further split the train dataset for choosing hyperparameter\n",
    "    a_train_tr, b_train_tr = a_train[:382], b_train[:382]\n",
    "    a_train_va, b_train_va = a_train[382:], b_train[382:]\n",
    "    #b_train_va.shape\n",
    "    \n",
    "    model_choices=[]\n",
    "    train_acc = []\n",
    "    valid_acc = []\n",
    "\n",
    "    n_train = b_train_tr.shape[0]\n",
    "    n_valid = b_train_va.shape[0]\n",
    "\n",
    "    for k in range(1, 15):\n",
    "        dt = DecisionTree(max_depth=k) # create a KNN object (OOP)\n",
    "\n",
    "        b_train_tr_prob = dt.fit(a_train_tr, b_train_tr).predict(a_train_tr)\n",
    "        b_train_tr_pred = np.argmax(b_train_tr_prob, axis=-1)\n",
    "        acc_tr = np.sum(b_train_tr_pred == b_train_tr)/n_train\n",
    "\n",
    "        b_train_va_prob = dt.fit(a_train_tr, b_train_tr).predict(a_train_va)\n",
    "        b_train_va_pred = np.argmax(b_train_va_prob, axis=-1)\n",
    "        acc_va = np.sum(b_train_va_pred == b_train_va)/n_valid\n",
    "\n",
    "        model_choices.append(k)\n",
    "        train_acc.append(acc_tr)\n",
    "        valid_acc.append(acc_va)\n",
    "\n",
    "    # use the best K to predict test data\n",
    "    best_depth = model_choices[valid_acc.index(max(valid_acc))]\n",
    "    dt = DecisionTree(max_depth=best_depth)\n",
    "    b_test_prob = dt.fit(a_train, b_train).predict(a_test)\n",
    "    b_test_pred = np.argmax(b_test_prob, axis=-1)\n",
    "    test_accuracy_mes_dt = np.sum(b_test_pred == b_test)/b_test.shape[0]\n",
    "    \n",
    "    accuracy_dt.append(test_accuracy_mes_dt)"
   ]
  },
  {
   "cell_type": "code",
   "execution_count": 17,
   "id": "299cb700",
   "metadata": {},
   "outputs": [
    {
     "data": {
      "image/png": "[encoded data removed]",
      "text/plain": [
       "<Figure size 720x504 with 1 Axes>"
      ]
     },
     "metadata": {
      "needs_background": "light"
     },
     "output_type": "display_data"
    }
   ],
   "source": [
    "# compare knn and dt on data set heptisis by using box plot\n",
    "\n",
    "fig = plt.figure(figsize =(10, 7))\n",
    "ax = fig.add_subplot(111)\n",
    "bp = ax.boxplot([accuracy_knn, accuracy_dt], patch_artist = True,\n",
    "                notch ='True', vert = 1, showmeans = True)\n",
    "\n",
    "ax.set_xticklabels(['KNN', 'DT'])\n",
    "plt.title(\"KNN vs DT on messidor\")\n",
    "plt.ylabel(\"Accuracy\")\n",
    "plt.savefig('KNN vs DT on messidor.png',dpi='figure',bbox_inches='tight')"
   ]
  },
  {
   "cell_type": "markdown",
   "id": "2b22d48f",
   "metadata": {},
   "source": [
    "### 3.2 Test different K values and see how it affects the test data accuracy of KNN"
   ]
  },
  {
   "cell_type": "code",
   "execution_count": null,
   "id": "1e309b35",
   "metadata": {},
   "outputs": [],
   "source": [
    "#accuracy under different K in heptisis\n",
    "\n",
    "end = 15\n",
    "\n",
    "#Split the dataset\n",
    "x,y=hepatitis.to_numpy()[:,1:],hepatitis[\"Class\"].to_numpy()\n",
    "x=x.astype(float)\n",
    "y=y.astype(int)-1\n",
    "#print(x.dtype)\n",
    "#x, y = hepatitis.drop(columns=[\"Class\"]).values,hepatitis['Class'].values \n",
    "(N,D), C = x.shape, np.max(y)\n",
    "#print(f'instances (N) \\t {N} \\n features (D) \\t {D} \\n classes (C) \\t {C}')\n",
    "inds = np.random.permutation(N)\n",
    "x_train, y_train = x[inds[:100]], y[inds[:100]] #inds:random permutation\n",
    "x_test, y_test = x[inds[100:]], y[inds[100:]]\n",
    "    \n",
    "    \n",
    "#Further split the training data into train_tr and train_va\n",
    "x_train_tr, y_train_tr = x_train[:50], y_train[:50]\n",
    "x_train_va, y_train_va = x_train[50:], y_train[50:]\n",
    "    \n",
    "    \n",
    "## Choosing the best hyperparameter\n",
    "model_choices=[] # save k values\n",
    "valid_acc = [] #save validation accuracy\n",
    "test_acc = [] #save the test accuracy\n",
    "n_valid = y_train_va.shape[0]\n",
    "\n",
    "for k in range(1,end):\n",
    "    knn = KNN(K=k) # create a KNN object (OOP)\n",
    "    y_train_va_prob,_ = knn.fit(x_train_tr, y_train_tr).predict(x_train_va) # bug fixed\n",
    "    y_train_va_pred = np.argmax(y_train_va_prob,axis=-1)\n",
    "    # y_train_va_pred = np.argmax(y_train_va_prob,axis=-1)+1\n",
    "    accuracy = np.sum(y_train_va_pred == y_train_va, dtype = float)/n_valid\n",
    "    model_choices.append(k)\n",
    "    valid_acc.append(accuracy)\n",
    "    \n",
    "    knn = KNN(K=k)\n",
    "    y_test_prob, _ = knn.fit(x_train, y_train).predict(x_test)\n",
    "    y_test_pred = np.argmax(y_test_prob, axis=-1)\n",
    "    test_acc.append(knn.evaluate_acc(y_test_pred, y_test))\n",
    "\n",
    "plt.plot(valid_acc, marker='o', color='blue', label='validation')\n",
    "plt.plot(test_acc, marker='*', color='red', label='testing')\n",
    "plt.title(\"accuracy under different K in heptisis\")\n",
    "plt.xlabel(\"K\")\n",
    "plt.ylabel(\"Accuracy\")\n",
    "plt.savefig('accuracy under different K in heptisis.png',dpi='figure',bbox_inches='tight')"
   ]
  },
  {
   "cell_type": "code",
   "execution_count": null,
   "id": "cb145c56",
   "metadata": {},
   "outputs": [],
   "source": [
    "#Split the dataset into train and test\n",
    "(N,D), C = a.shape, np.max(b)\n",
    "(num_instances, num_features), num_classes = a.shape, np.max(b)+1\n",
    "inds = np.random.permutation(N)\n",
    "#N*(2/3)=764\n",
    "a_train, b_train = a[inds[:764]], b[inds[:764]] #inds:random permutation\n",
    "a_test, b_test = a[inds[764:]], b[inds[764:]]\n",
    "#Further split the train dataset for choosing hyperparameter\n",
    "a_train_tr, b_train_tr = a_train[:382], b_train[:382]\n",
    "a_train_va, b_train_va = a_train[382:], b_train[382:]\n",
    "\n",
    "## Choosing the best hyperparameter\n",
    "model_choices=[] # save k values\n",
    "valid_acc = [] #save validation accuracy\n",
    "test_acc = [] #save the test accuracy\n",
    "n_valid = b_train_va.shape[0]\n",
    "\n",
    "for k in range(1,20):\n",
    "    knn = KNN(K=k) # create a KNN object (OOP)\n",
    "    b_train_va_prob,_ = knn.fit(a_train_tr, b_train_tr).predict(a_train_va) # bug fixed\n",
    "    b_train_va_pred = np.argmax(b_train_va_prob,axis=-1)\n",
    "   # b_train_va_pred = np.argmax(b_train_va_prob,axis=-1)+1\n",
    "    accuracy = np.sum(b_train_va_pred == b_train_va, dtype = float)/n_valid\n",
    "    model_choices.append(k)\n",
    "    valid_acc.append(accuracy)\n",
    "    \n",
    "    knn = KNN(K=k)\n",
    "    b_test_prob, _ = knn.fit(a_train, b_train).predict(a_test)\n",
    "    b_test_pred = np.argmax(b_test_prob, axis=-1)\n",
    "    test_acc.append(knn.evaluate_acc(b_test_pred, b_test))\n",
    "\n",
    "plt.plot(valid_acc, marker='o', color='blue', label='validation')\n",
    "plt.plot(test_acc, marker='*', color='red', label='testing')\n",
    "plt.title(\"accuracy under different K in messidor\")\n",
    "plt.xlabel(\"K\")\n",
    "plt.ylabel(\"Accuracy\")\n",
    "plt.savefig('accuracy under different K in messidor.png',dpi='figure',bbox_inches='tight')"
   ]
  },
  {
   "cell_type": "markdown",
   "id": "df4c3ebe",
   "metadata": {},
   "source": [
    "## 3.3 Test different depth and see how it affects the test data accuracy of DT"
   ]
  },
  {
   "cell_type": "code",
   "execution_count": null,
   "id": "2ac632df",
   "metadata": {},
   "outputs": [],
   "source": [
    "end = 15\n",
    "\n",
    "#Split the dataset\n",
    "x,y=hepatitis.to_numpy()[:,1:],hepatitis[\"Class\"].to_numpy()\n",
    "x=x.astype(float)\n",
    "y=y.astype(int)-1\n",
    "#print(x.dtype)\n",
    "#x, y = hepatitis.drop(columns=[\"Class\"]).values,hepatitis['Class'].values \n",
    "(N,D), C = x.shape, np.max(y)\n",
    "#print(f'instances (N) \\t {N} \\n features (D) \\t {D} \\n classes (C) \\t {C}')\n",
    "inds = np.random.permutation(N)\n",
    "x_train, y_train = x[inds[:100]], y[inds[:100]] #inds:random permutation\n",
    "x_test, y_test = x[inds[100:]], y[inds[100:]]\n",
    "    \n",
    "    \n",
    "#Further split the training data into train_tr and train_va\n",
    "x_train_tr, y_train_tr = x_train[:50], y_train[:50]\n",
    "x_train_va, y_train_va = x_train[50:], y_train[50:]\n",
    "    \n",
    "model_choices=[]\n",
    "train_acc = []\n",
    "valid_acc = []\n",
    "test_acc = []\n",
    "\n",
    "n_train = y_train_tr.shape[0]\n",
    "n_valid = y_train_va.shape[0]\n",
    "\n",
    "for k in range(1, 15):\n",
    "    dt = DecisionTree(max_depth=k) # create a KNN object (OOP)\n",
    "\n",
    "    y_train_tr_prob = dt.fit(x_train_tr, y_train_tr).predict(x_train_tr)\n",
    "    y_train_tr_pred = np.argmax(y_train_tr_prob, axis=-1)\n",
    "    acc_tr = np.sum(y_train_tr_pred == y_train_tr)/n_train\n",
    "\n",
    "    y_train_va_prob = dt.fit(x_train_tr, y_train_tr).predict(x_train_va)\n",
    "    y_train_va_pred = np.argmax(y_train_va_prob, axis=-1)\n",
    "    acc_va = np.sum(y_train_va_pred == y_train_va)/n_valid\n",
    "\n",
    "    model_choices.append(k)\n",
    "    train_acc.append(acc_tr)\n",
    "    valid_acc.append(acc_va)  \n",
    "    \n",
    "    dt = DecisionTree(max_depth=k)\n",
    "    y_test_prob = dt.fit(x_train, y_train).predict(x_test)\n",
    "    y_test_pred = np.argmax(y_test_prob, axis=-1)\n",
    "    test_acc.append(dt.evaluate_acc(y_test_pred, y_test))\n",
    "\n",
    "\n",
    "plt.plot(valid_acc, marker='o', color='blue', label='validation')\n",
    "plt.plot(test_acc, marker='*', color='red', label='testing')\n",
    "plt.title(\"accuracy under different depth in heptisis\")\n",
    "plt.xlabel(\"depth\")\n",
    "plt.ylabel(\"Accuracy\")\n",
    "plt.savefig('accuracy under different depth in heptisis.png',dpi='figure',bbox_inches='tight')"
   ]
  },
  {
   "cell_type": "code",
   "execution_count": null,
   "id": "cb77dbb9",
   "metadata": {},
   "outputs": [],
   "source": [
    "def transform(s):\n",
    "        return int.from_bytes(s, \"big\") - 48\n",
    "    \n",
    "a=messidor.to_numpy()[:,:-1]\n",
    "b=messidor[\"sign\"].apply(transform).to_numpy()\n",
    "a=a.astype(float)\n",
    "b=b.astype(int)\n",
    "\n",
    "#Split the dataset into train and test\n",
    "(N,D), C = a.shape, np.max(b)\n",
    "(num_instances, num_features), num_classes = a.shape, np.max(b)+1\n",
    "inds = np.random.permutation(N)\n",
    "#N*(2/3)=764\n",
    "a_train, b_train = a[inds[:764]], b[inds[:764]] #inds:random permutation\n",
    "a_test, b_test = a[inds[764:]], b[inds[764:]]\n",
    "#Further split the train dataset for choosing hyperparameter\n",
    "a_train_tr, b_train_tr = a_train[:382], b_train[:382]\n",
    "a_train_va, b_train_va = a_train[382:], b_train[382:]\n",
    "\n",
    "model_choices=[]\n",
    "train_acc = []\n",
    "valid_acc = []\n",
    "test_acc = []\n",
    "\n",
    "n_train = b_train_tr.shape[0]\n",
    "n_valid = b_train_va.shape[0]\n",
    "\n",
    "for k in range(1, 15):\n",
    "    dt = DecisionTree(max_depth=k) # create a KNN object (OOP)\n",
    "\n",
    "    b_train_tr_prob = dt.fit(a_train_tr, b_train_tr).predict(a_train_tr)\n",
    "    b_train_tr_pred = np.argmax(b_train_tr_prob, axis=-1)\n",
    "    acc_tr = np.sum(b_train_tr_pred == b_train_tr)/n_train\n",
    "\n",
    "    b_train_va_prob = dt.fit(a_train_tr, b_train_tr).predict(a_train_va)\n",
    "    b_train_va_pred = np.argmax(b_train_va_prob, axis=-1)\n",
    "    acc_va = np.sum(b_train_va_pred == b_train_va)/n_valid\n",
    "\n",
    "    model_choices.append(k)\n",
    "    train_acc.append(acc_tr)\n",
    "    valid_acc.append(acc_va)\n",
    "    \n",
    "    dt = DecisionTree(max_depth=k)\n",
    "    b_test_prob = dt.fit(a_train, b_train).predict(a_test)\n",
    "    b_test_pred = np.argmax(b_test_prob, axis=-1)\n",
    "    test_acc.append(dt.evaluate_acc(b_test_pred, b_test))\n",
    "\n",
    "plt.plot(valid_acc, marker='o', color='blue', label='validation')\n",
    "plt.plot(test_acc, marker='*', color='red', label='testing')\n",
    "plt.title(\"accuracy under different depth in messidor\")\n",
    "plt.xlabel(\"depth\")\n",
    "plt.ylabel(\"Accuracy\")\n",
    "plt.savefig('accuracy under different depth in messidor.png',dpi='figure',bbox_inches='tight')"
   ]
  },
  {
   "cell_type": "markdown",
   "id": "f8e44ab8",
   "metadata": {},
   "source": [
    "## 3.4 Different distance/cost functions for both models"
   ]
  },
  {
   "cell_type": "markdown",
   "id": "2f8ef7fb",
   "metadata": {},
   "source": [
    "##### euclidean vs manhattan"
   ]
  },
  {
   "cell_type": "code",
   "execution_count": null,
   "id": "1f575313",
   "metadata": {},
   "outputs": [],
   "source": [
    "#Split the dataset\n",
    "x,y=hepatitis.to_numpy()[:,1:],hepatitis[\"Class\"].to_numpy()\n",
    "x=x.astype(float)\n",
    "y=y.astype(int)-1\n",
    "(N,D), C = x.shape, np.max(y)+1\n",
    "inds = np.random.permutation(N)\n",
    "\n",
    "x_train, y_train = x[inds[:100]], y[inds[:100]] #inds:random permutation\n",
    "x_test, y_test = x[inds[100:]], y[inds[100:]]\n",
    "\n",
    "#Further split the training data into train_tr and train_va\n",
    "x_train_tr, y_train_tr = x_train[:50], y_train[:50]\n",
    "x_train_va, y_train_va = x_train[50:], y_train[50:]"
   ]
  },
  {
   "cell_type": "code",
   "execution_count": null,
   "id": "ccc535f9",
   "metadata": {},
   "outputs": [],
   "source": [
    "## euclidean\n",
    "\n",
    "model_choices=[] # save k values\n",
    "valid_acc = [] #save validation accuracy\n",
    "n_valid = y_train_va.shape[0]\n",
    "\n",
    "for k in range(1,15):\n",
    "    knn = KNN(K=k, dist_fn = euclidean) # create a KNN object (OOP)\n",
    "    \n",
    "    y_train_va_prob,_ = knn.fit(x_train_tr, y_train_tr).predict(x_train_va) # bug fixed\n",
    "    y_train_va_pred = np.argmax(y_train_va_prob,axis=-1)\n",
    "   # y_train_va_pred = np.argmax(y_train_va_prob,axis=-1)+1\n",
    "    accuracy = np.sum(y_train_va_pred == y_train_va, dtype = float)/n_valid\n",
    "    model_choices.append(k)\n",
    "    valid_acc.append(accuracy)\n",
    "\n",
    "# use the best K to predict test data\n",
    "best_valid_K = model_choices[valid_acc.index(max(valid_acc))] #use index to see what's best K value\n",
    "knn = KNN(K=best_valid_K)\n",
    "y_test_prob_knn,_ = knn.fit(x_train, y_train).predict(x_test)\n",
    "y_test_pred_knn = np.argmax(y_test_prob_knn, axis=-1)\n",
    "#y_test_pred = np.argmax(y_test_prob, axis=-1)+1\n",
    "test_accuracy_hep_knn = np.sum(y_test_pred_knn == y_test)/y_test.shape[0]\n",
    "print(f'best K = {best_valid_K}, test accuracy = {test_accuracy_hep_knn}')\n",
    "\n",
    "plt.plot(model_choices, valid_acc, marker='o', color='blue', label='validation')\n",
    "plt.plot(best_valid_K, test_accuracy_hep_knn, marker='*', color='red', label='testing')\n",
    "plt.xlabel(\"K\")\n",
    "plt.ylabel(\"Accuracy\")\n",
    "plt.title(\"euclidean\")\n",
    "plt.legend(loc='best')\n",
    "plt.savefig('heptisis-knn euclidean.png',dpi=300,bbox_inches='tight')"
   ]
  },
  {
   "cell_type": "code",
   "execution_count": null,
   "id": "e94c5bb0",
   "metadata": {},
   "outputs": [],
   "source": [
    "## manhattan\n",
    "\n",
    "model_choices=[] # save k values\n",
    "valid_acc = [] #save validation accuracy\n",
    "n_valid = y_train_va.shape[0]\n",
    "\n",
    "for k in range(1,15):\n",
    "    knn = KNN(K=k, dist_fn = manhattan) # create a KNN object (OOP)\n",
    "    \n",
    "    y_train_va_prob,_ = knn.fit(x_train_tr, y_train_tr).predict(x_train_va) # bug fixed\n",
    "    y_train_va_pred = np.argmax(y_train_va_prob,axis=-1)\n",
    "   # y_train_va_pred = np.argmax(y_train_va_prob,axis=-1)+1\n",
    "    accuracy = np.sum(y_train_va_pred == y_train_va, dtype = float)/n_valid\n",
    "    model_choices.append(k)\n",
    "    valid_acc.append(accuracy)\n",
    "\n",
    "# use the best K to predict test data\n",
    "best_valid_K = model_choices[valid_acc.index(max(valid_acc))] #use index to see what's best K value\n",
    "knn = KNN(K=best_valid_K)\n",
    "y_test_prob_knn,_ = knn.fit(x_train, y_train).predict(x_test)\n",
    "y_test_pred_knn = np.argmax(y_test_prob_knn, axis=-1)\n",
    "#y_test_pred = np.argmax(y_test_prob, axis=-1)+1\n",
    "test_accuracy_hep_knn = np.sum(y_test_pred_knn == y_test)/y_test.shape[0]\n",
    "print(f'best K = {best_valid_K}, test accuracy = {test_accuracy_hep_knn}')\n",
    "\n",
    "plt.plot(model_choices, valid_acc, marker='o', color='blue', label='validation')\n",
    "plt.plot(best_valid_K, test_accuracy_hep_knn, marker='*', color='red', label='testing')\n",
    "plt.xlabel(\"K\")\n",
    "plt.ylabel(\"Accuracy\")\n",
    "plt.title(\"manhattan\")\n",
    "plt.legend(loc='best')\n",
    "plt.savefig('heptisis-knn manhattan.png',dpi=300,bbox_inches='tight')"
   ]
  },
  {
   "cell_type": "markdown",
   "id": "0c257e4c",
   "metadata": {},
   "source": [
    "#### gini index vs entropy"
   ]
  },
  {
   "cell_type": "code",
   "execution_count": null,
   "id": "bd39e2a5",
   "metadata": {},
   "outputs": [],
   "source": [
    "model_choices=[]\n",
    "train_acc = []\n",
    "valid_acc = []\n",
    "\n",
    "n_train = y_train_tr.shape[0]\n",
    "n_valid = y_train_va.shape[0]\n",
    "\n",
    "for k in range(1, 15):\n",
    "    dt = DecisionTree(max_depth=k, cost_fn= cost_gini_index) \n",
    "\n",
    "    y_train_tr_prob = dt.fit(x_train_tr, y_train_tr).predict(x_train_tr)\n",
    "    y_train_tr_pred = np.argmax(y_train_tr_prob, axis=-1)\n",
    "    acc_tr = np.sum(y_train_tr_pred == y_train_tr)/n_train\n",
    "\n",
    "    y_train_va_prob = dt.fit(x_train_tr, y_train_tr).predict(x_train_va)\n",
    "    y_train_va_pred = np.argmax(y_train_va_prob, axis=-1)\n",
    "    acc_va = np.sum(y_train_va_pred == y_train_va)/n_valid\n",
    "\n",
    "    model_choices.append(k)\n",
    "    train_acc.append(acc_tr)\n",
    "    valid_acc.append(acc_va)\n",
    "\n",
    "# use the best K to predict test data\n",
    "best_depth = model_choices[valid_acc.index(max(valid_acc))]\n",
    "dt = DecisionTree(max_depth=best_depth)\n",
    "y_test_prob_dt = dt.fit(x_train, y_train).predict(x_test)\n",
    "y_test_pred_dt = np.argmax(y_test_prob_dt, axis=-1)\n",
    "test_accuracy_hep_dt = np.sum(y_test_pred_dt == y_test)/y_test.shape[0]\n",
    "print(f'best depth = {best_depth}, test accuracy = {test_accuracy_hep_dt}')\n",
    "\n",
    "plt.plot(model_choices, train_acc, marker='d', color='black', label='training')\n",
    "plt.plot(model_choices, valid_acc, marker='o', color='blue', label='validation')\n",
    "plt.plot(best_depth, test_accuracy_hep_dt, marker='*', color='red', label='testing')\n",
    "plt.xlabel(\"Tree depth\")\n",
    "plt.ylabel(\"Accuracy\")\n",
    "plt.title(\"gini index\")\n",
    "plt.legend(loc='best')\n",
    "plt.savefig('heptisis-dt gini index',dpi=300,bbox_inches='tight')"
   ]
  },
  {
   "cell_type": "code",
   "execution_count": null,
   "id": "c21c40ce",
   "metadata": {},
   "outputs": [],
   "source": [
    "# entropy\n",
    "model_choices=[]\n",
    "train_acc = []\n",
    "valid_acc = []\n",
    "\n",
    "n_train = y_train_tr.shape[0]\n",
    "n_valid = y_train_va.shape[0]\n",
    "\n",
    "for k in range(1, 15):\n",
    "    dt = DecisionTree(max_depth=k, cost_fn= cost_entropy) \n",
    "\n",
    "    y_train_tr_prob = dt.fit(x_train_tr, y_train_tr).predict(x_train_tr)\n",
    "    y_train_tr_pred = np.argmax(y_train_tr_prob, axis=-1)\n",
    "    acc_tr = np.sum(y_train_tr_pred == y_train_tr)/n_train\n",
    "\n",
    "    y_train_va_prob = dt.fit(x_train_tr, y_train_tr).predict(x_train_va)\n",
    "    y_train_va_pred = np.argmax(y_train_va_prob, axis=-1)\n",
    "    acc_va = np.sum(y_train_va_pred == y_train_va)/n_valid\n",
    "\n",
    "    model_choices.append(k)\n",
    "    train_acc.append(acc_tr)\n",
    "    valid_acc.append(acc_va)\n",
    "\n",
    "# use the best K to predict test data\n",
    "best_depth = model_choices[valid_acc.index(max(valid_acc))]\n",
    "dt = DecisionTree(max_depth=best_depth)\n",
    "y_test_prob_dt = dt.fit(x_train, y_train).predict(x_test)\n",
    "y_test_pred_dt = np.argmax(y_test_prob_dt, axis=-1)\n",
    "test_accuracy_hep_dt = np.sum(y_test_pred_dt == y_test)/y_test.shape[0]\n",
    "print(f'best depth = {best_depth}, test accuracy = {test_accuracy_hep_dt}')\n",
    "\n",
    "plt.plot(model_choices, train_acc, marker='d', color='black', label='training')\n",
    "plt.plot(model_choices, valid_acc, marker='o', color='blue', label='validation')\n",
    "plt.plot(best_depth, test_accuracy_hep_dt, marker='*', color='red', label='testing')\n",
    "plt.xlabel(\"Tree depth\")\n",
    "plt.ylabel(\"Accuracy\")\n",
    "plt.title(\"entropy\")\n",
    "plt.legend(loc='best')\n",
    "plt.savefig('heptisis-dt entropy',dpi=300,bbox_inches='tight')"
   ]
  },
  {
   "cell_type": "markdown",
   "id": "75787528",
   "metadata": {},
   "source": [
    "## 3.5 Important features of KNN"
   ]
  },
  {
   "cell_type": "code",
   "execution_count": null,
   "id": "491882df",
   "metadata": {},
   "outputs": [],
   "source": [
    "fnames = list(hepatitis)[1:]\n",
    "\n",
    "\n",
    "from sklearn.datasets import make_regression\n",
    "from sklearn.linear_model import LinearRegression\n",
    "\n",
    "\n",
    "\n",
    "model = LinearRegression()\n",
    "model.fit(x_train, y_train)\n",
    "importance_lr = model.coef_\n",
    "lr_importances = pd.Series(importance_lr, index=fnames)\n",
    "plt.bar(fnames, importance_lr)\n",
    "plt.xticks(range(x.shape[1]), fnames,rotation=90)\n",
    "plt.title(\"Important Features of KNN Using Linear Regression\")\n",
    "plt.savefig('Important features of KNN using linear regression.png',dpi='figure',bbox_inches='tight')\n",
    "plt.show()\n",
    "\n",
    "indices_lr = (-importance_lr).argsort()[:2]\n",
    "lr_two_features = fnames[indices_lr[0]],fnames[indices_lr[1]]\n",
    "print(\"The 2 important features are\", lr_two_features[0], \"and\", lr_two_features[1])"
   ]
  },
  {
   "cell_type": "markdown",
   "id": "5a8e7d84",
   "metadata": {},
   "source": [
    "## 3.6 Important features of DT"
   ]
  },
  {
   "cell_type": "code",
   "execution_count": null,
   "id": "5a715767",
   "metadata": {},
   "outputs": [],
   "source": [
    "from sklearn.ensemble import RandomForestClassifier\n",
    "import time\n",
    "\n",
    "forest = RandomForestClassifier(random_state=0)\n",
    "forest.fit(x_train, y_train)\n",
    "\n",
    "\n",
    "start_time = time.time()\n",
    "importances = forest.feature_importances_\n",
    "std = np.std([tree.feature_importances_ for tree in forest.estimators_], axis=0)\n",
    "elapsed_time = time.time() - start_time\n",
    "\n",
    "forest_importances = pd.Series(importances, index=fnames)\n",
    "\n",
    "fig, ax = plt.subplots()\n",
    "forest_importances.plot.bar(yerr=std, ax=ax)\n",
    "ax.set_title(\"Important Features Using MDI\")\n",
    "ax.set_ylabel(\"Mean decrease in impurity\")\n",
    "fig.savefig('Important Features of DT Using MDI.png',dpi='figure',bbox_inches='tight')\n",
    "fig.tight_layout()\n",
    "\n",
    "\n",
    "\n",
    "indices_dt = (-importances).argsort()[:2]\n",
    "two_features = fnames[indices_dt[0]],fnames[indices_dt[1]]\n",
    "print(\"The 2 important features are\", two_features[0], \"and\", two_features[1])"
   ]
  },
  {
   "cell_type": "markdown",
   "id": "b9dd0a09",
   "metadata": {},
   "source": [
    "## 3.7 Decision boundary"
   ]
  },
  {
   "cell_type": "code",
   "execution_count": null,
   "id": "84032104",
   "metadata": {},
   "outputs": [],
   "source": [
    "## KNN\n",
    "\n",
    "#Split the dataset\n",
    "x,y=hepatitis.to_numpy()[:,1:],hepatitis[\"Class\"].to_numpy()\n",
    "x=x.astype(float)\n",
    "y=y.astype(int)-1\n",
    "(N,D), C = x.shape, np.max(y)+1\n",
    "inds = np.random.permutation(N)\n",
    "\n",
    "x_train, y_train = x[inds[:100]], y[inds[:100]] #inds:random permutation\n",
    "x_test, y_test = x[inds[100:]], y[inds[100:]]\n",
    "\n",
    "x1in, x2in = indices\n",
    "x_train2 = x_train[:, [x1in, x2in]]\n",
    "\n",
    "x0v = np.linspace(np.min(x[:,x1in]), np.max(x[:,x1in]), 200)\n",
    "x1v = np.linspace(np.min(x[:,x2in]), np.max(x[:,x2in]), 200)\n",
    "\n",
    "# to features values as a mesh  \n",
    "x0, x1 = np.meshgrid(x0v, x1v)\n",
    "x_all = np.vstack((x0.ravel(),x1.ravel())).T\n",
    "\n",
    "k = best_valid_K\n",
    "model = KNN(K=k)\n",
    "\n",
    "y_train_prob = np.zeros((y_train.shape[0], C))\n",
    "y_train_prob[np.arange(y_train.shape[0]), y_train] = 1\n",
    "\n",
    "y_prob_all, _ = model.fit(x_train2, y_train).predict(x_all)\n",
    "\n",
    "\n",
    "y_pred_all = np.zeros_like(y_prob_all)\n",
    "y_pred_all[np.arange(x_all.shape[0]), np.argmax(y_prob_all, axis=-1)] = 1 \n",
    "\n",
    "\n",
    "temp1 = np.zeros((y_train_prob.shape[0],y_train_prob.shape[1]+1))\n",
    "temp1[:,:-1] = y_train_prob\n",
    "\n",
    "temp2 = np.zeros((y_pred_all.shape[0],y_pred_all.shape[1]+1))\n",
    "temp2[:,:-1] = y_pred_all\n",
    "\n",
    "plt.clf()\n",
    "plt.scatter(x_train2[:,0], x_train2[:,1], c=temp1, marker='o', alpha=1)\n",
    "    \n",
    "plt.scatter(x_all[:,0], x_all[:,1], c=temp2, marker='.', alpha=0.01)\n",
    "\n",
    "\n",
    "plt.ylabel(two_features[0])\n",
    "plt.xlabel(two_features[1])\n",
    "plt.savefig('decision_boundaries_KNN'+str(k)+'.png', dpi=300, bbox_inches='tight') "
   ]
  },
  {
   "cell_type": "code",
   "execution_count": null,
   "id": "8375aae8",
   "metadata": {},
   "outputs": [],
   "source": [
    "## DT\n",
    "\n",
    "x1dt, x2dt = indices_dt\n",
    "x_traindt2 = x_train[:, [x1dt, x2dt]]\n",
    "\n",
    "x0v = np.linspace(np.min(x[:,x1dt]), np.max(x[:,x1dt]), 200)\n",
    "x1v = np.linspace(np.min(x[:,x2dt]), np.max(x[:,x2dt]), 200)\n",
    "\n",
    "# to features values as a mesh  \n",
    "x0, x1 = np.meshgrid(x0v, x1v)\n",
    "x_all = np.vstack((x0.ravel(),x1.ravel())).T\n",
    "\n",
    "k = best_depth\n",
    "model = DecisionTree(max_depth=best_depth)\n",
    "\n",
    "y_train_prob = np.zeros((y_train.shape[0], C))\n",
    "y_train_prob[np.arange(y_train.shape[0]), y_train] = 1\n",
    "\n",
    "y_prob_all = model.fit(x_traindt2, y_train).predict(x_all)\n",
    "\n",
    "\n",
    "y_pred_all = np.zeros_like(y_prob_all)\n",
    "y_pred_all[np.arange(x_all.shape[0]), np.argmax(y_prob_all, axis=-1)] = 1 \n",
    "\n",
    "\n",
    "temp1 = np.zeros((y_train_prob.shape[0],y_train_prob.shape[1]+1))\n",
    "temp1[:,:-1] = y_train_prob\n",
    "\n",
    "temp2 = np.zeros((y_pred_all.shape[0],y_pred_all.shape[1]+1))\n",
    "temp2[:,:-1] = y_pred_all\n",
    "\n",
    "plt.clf()\n",
    "plt.scatter(x_traindt2[:,0], x_traindt2[:,1], c=temp1, marker='o', alpha=1)\n",
    "    \n",
    "plt.scatter(x_all[:,0], x_all[:,1], c=temp2, marker='.', alpha=0.01)\n",
    "\n",
    "\n",
    "plt.ylabel(lr_two_features[0])\n",
    "plt.xlabel(lr_two_features[1])\n",
    "plt.savefig('decision_boundaries_DT'+str(k)+'.png', dpi=300, bbox_inches='tight')"
   ]
  },
  {
   "cell_type": "markdown",
   "id": "c251a75d",
   "metadata": {},
   "source": [
    "#  Weighted KNN"
   ]
  },
  {
   "cell_type": "code",
   "execution_count": 22,
   "id": "e4b3321a",
   "metadata": {},
   "outputs": [],
   "source": [
    "class WEIGHTED_KNN:\n",
    "    def __init__(self, K=1,dist_fn= euclidean):\n",
    "        self.dist_fn = dist_fn\n",
    "        self.K = K\n",
    "        return\n",
    "    \n",
    "    def fit(self, x, y):\n",
    "        ''' Store the training data using this method as it is a lazy learner'''\n",
    "        self.x = x\n",
    "        self.y = y\n",
    "        self.C = np.max(y)+1\n",
    "        #self.C = np.max(y)\n",
    "        return self\n",
    "    \n",
    "    def predict(self, x_test):\n",
    "        ''' Makes a prediction using the stored training data and the test data given as argument'''\n",
    "        num_test = x_test.shape[0]\n",
    "        distances = self.dist_fn(self.x[None,:,:], x_test[:,None,:])\n",
    "        knns = np.zeros((num_test, self.K), dtype=int)\n",
    "        \n",
    "        similarity = np.zeros((num_test, self.K), dtype=float)\n",
    "        \n",
    "        y_prob = np.zeros((num_test, self.C))\n",
    "        for i in range(num_test):\n",
    "            knns[i,:] = np.argsort(distances[i])[:self.K]\n",
    "            #compute the similarity for x(n)\n",
    "            similarity[i,:] = 1/(distances[i][knns[i,:]])\n",
    "            #compute the sum of Wk * identity function\n",
    "            y_prob[i,:] = np.bincount(self.y[knns[i,:]], similarity[i,:], minlength = self.C)\n",
    "            #divided by Wk\n",
    "            y_prob[i,:] = y_prob[i,:]/ sum(similarity[i,:])\n",
    "        return y_prob,knns\n",
    "    \n",
    "    def evaluate_acc(self, y_pred, y_test):\n",
    "        accuracy = np.sum(y_pred == y_test)/y_test.shape[0]\n",
    "        return accuracy"
   ]
  },
  {
   "cell_type": "code",
   "execution_count": 23,
   "id": "55bb9431",
   "metadata": {},
   "outputs": [],
   "source": [
    "#run unweighted knn on hepsitis 1000 times\n",
    "accuracy_unweighted = []\n",
    "for i in range(1000):\n",
    "    #Split the dataset\n",
    "    x,y=hepatitis.to_numpy()[:,1:],hepatitis[\"Class\"].to_numpy()\n",
    "    x=x.astype(float)\n",
    "    y=y.astype(int)-1\n",
    "    #print(x.dtype)\n",
    "    #x, y = hepatitis.drop(columns=[\"Class\"]).values,hepatitis['Class'].values \n",
    "    (N,D), C = x.shape, np.max(y)\n",
    "    #print(f'instances (N) \\t {N} \\n features (D) \\t {D} \\n classes (C) \\t {C}')\n",
    "    inds = np.random.permutation(N)\n",
    "    x_train, y_train = x[inds[:100]], y[inds[:100]] #inds:random permutation\n",
    "    x_test, y_test = x[inds[100:]], y[inds[100:]]\n",
    "    \n",
    "    \n",
    "    #Further split the training data into train_tr and train_va\n",
    "    x_train_tr, y_train_tr = x_train[:50], y_train[:50]\n",
    "    x_train_va, y_train_va = x_train[50:], y_train[50:]\n",
    "    \n",
    "    \n",
    "    ## Choosing the best hyperparameter\n",
    "    model_choices=[] # save k values\n",
    "    valid_acc = [] #save validation accuracy\n",
    "    n_valid = y_train_va.shape[0]\n",
    "\n",
    "    for k in range(1,15):\n",
    "        knn = KNN(K=k) # create a KNN object (OOP)\n",
    "        y_train_va_prob,_ = knn.fit(x_train_tr, y_train_tr).predict(x_train_va) # bug fixed\n",
    "        y_train_va_pred = np.argmax(y_train_va_prob,axis=-1)\n",
    "       # y_train_va_pred = np.argmax(y_train_va_prob,axis=-1)+1\n",
    "        accuracy = np.sum(y_train_va_pred == y_train_va, dtype = float)/n_valid\n",
    "        model_choices.append(k)\n",
    "        valid_acc.append(accuracy)\n",
    "\n",
    "    # use the best K to predict test data\n",
    "    best_valid_K = model_choices[valid_acc.index(max(valid_acc))] #use index to see what's best K value\n",
    "    knn = KNN(K=best_valid_K)\n",
    "    y_test_prob_knn,_ = knn.fit(x_train, y_train).predict(x_test)\n",
    "    y_test_pred_knn = np.argmax(y_test_prob_knn, axis=-1)\n",
    "    #y_test_pred = np.argmax(y_test_prob, axis=-1)+1\n",
    "    test_accuracy_hep_knn = np.sum(y_test_pred_knn == y_test)/y_test.shape[0]\n",
    "    accuracy_unweighted.append(test_accuracy_hep_knn)\n",
    "    #print(f'best K = {best_valid_K}, test accuracy = {test_accuracy_hep_knn}')"
   ]
  },
  {
   "cell_type": "code",
   "execution_count": 24,
   "id": "62f65a7d",
   "metadata": {},
   "outputs": [],
   "source": [
    "#run weighted knn on hepsitis 1000 times\n",
    "accuracy_weighted = []\n",
    "for i in range(1000):\n",
    "    #Split the dataset\n",
    "    x,y=hepatitis.to_numpy()[:,1:],hepatitis[\"Class\"].to_numpy()\n",
    "    x=x.astype(float)\n",
    "    y=y.astype(int)-1\n",
    "    #print(x.dtype)\n",
    "    #x, y = hepatitis.drop(columns=[\"Class\"]).values,hepatitis['Class'].values \n",
    "    (N,D), C = x.shape, np.max(y)\n",
    "    #print(f'instances (N) \\t {N} \\n features (D) \\t {D} \\n classes (C) \\t {C}')\n",
    "    inds = np.random.permutation(N)\n",
    "    x_train, y_train = x[inds[:100]], y[inds[:100]] #inds:random permutation\n",
    "    x_test, y_test = x[inds[100:]], y[inds[100:]]\n",
    "    \n",
    "    \n",
    "    #Further split the training data into train_tr and train_va\n",
    "    x_train_tr, y_train_tr = x_train[:50], y_train[:50]\n",
    "    x_train_va, y_train_va = x_train[50:], y_train[50:]\n",
    "    \n",
    "    \n",
    "    ## Choosing the best hyperparameter\n",
    "    model_choices=[] # save k values\n",
    "    valid_acc = [] #save validation accuracy\n",
    "    n_valid = y_train_va.shape[0]\n",
    "\n",
    "    for k in range(1,15):\n",
    "        knn = WEIGHTED_KNN(K=k) # create a KNN object (OOP)\n",
    "        y_train_va_prob,_ = knn.fit(x_train_tr, y_train_tr).predict(x_train_va) # bug fixed\n",
    "        y_train_va_pred = np.argmax(y_train_va_prob,axis=-1)\n",
    "       # y_train_va_pred = np.argmax(y_train_va_prob,axis=-1)+1\n",
    "        accuracy = np.sum(y_train_va_pred == y_train_va, dtype = float)/n_valid\n",
    "        model_choices.append(k)\n",
    "        valid_acc.append(accuracy)\n",
    "\n",
    "    # use the best K to predict test data\n",
    "    best_valid_K = model_choices[valid_acc.index(max(valid_acc))] #use index to see what's best K value\n",
    "    knn = KNN(K=best_valid_K)\n",
    "    y_test_prob_knn,_ = knn.fit(x_train, y_train).predict(x_test)\n",
    "    y_test_pred_knn = np.argmax(y_test_prob_knn, axis=-1)\n",
    "    #y_test_pred = np.argmax(y_test_prob, axis=-1)+1\n",
    "    test_accuracy_hep_knn = np.sum(y_test_pred_knn == y_test)/y_test.shape[0]\n",
    "    accuracy_weighted.append(test_accuracy_hep_knn)\n",
    "    #print(f'best K = {best_valid_K}, test accuracy = {test_accuracy_hep_knn}')"
   ]
  },
  {
   "cell_type": "code",
   "execution_count": 25,
   "id": "38bb7970",
   "metadata": {},
   "outputs": [
    {
     "data": {
      "image/png": "[encoded data removed]",
      "text/plain": [
       "<Figure size 720x504 with 1 Axes>"
      ]
     },
     "metadata": {
      "needs_background": "light"
     },
     "output_type": "display_data"
    }
   ],
   "source": [
    "fig = plt.figure(figsize =(10, 7))\n",
    "ax = fig.add_subplot(111)\n",
    "bp = ax.boxplot([accuracy_unweighted, accuracy_weighted], patch_artist = True,\n",
    "                notch ='True', vert = 1, showmeans = True)\n",
    "\n",
    "ax.set_xticklabels(['unweighted', 'weighted'])\n",
    "plt.title(\"Unweighted vs Weighted\")\n",
    "plt.ylabel(\"Accuracy\")\n",
    "plt.savefig('unweighted vs weighted.png',dpi='figure',bbox_inches='tight')"
   ]
  },
  {
   "cell_type": "code",
   "execution_count": null,
   "id": "30287c63",
   "metadata": {},
   "outputs": [],
   "source": []
  }
 ],
 "metadata": {
  "kernelspec": {
   "display_name": "Python 3 (ipykernel)",
   "language": "python",
   "name": "python3"
  },
  "language_info": {
   "codemirror_mode": {
    "name": "ipython",
    "version": 3
   },
   "file_extension": ".py",
   "mimetype": "text/x-python",
   "name": "python",
   "nbconvert_exporter": "python",
   "pygments_lexer": "ipython3",
   "version": "3.9.12"
  }
 },
 "nbformat": 4,
 "nbformat_minor": 5
}
